{
  "cells": [
    {
      "cell_type": "markdown",
      "metadata": {
        "id": "H9wADwK78DCz"
      },
      "source": [
        "# Proyek Analisis Data: E-Commerce Public Dataset\n",
        "- **Nama:** Zada Alfarras Rasendriya\n",
        "- **Email:** m004d4ky3319@bangkit.academy\n",
        "- **ID Dicoding:** zadaar"
      ]
    },
    {
      "cell_type": "markdown",
      "metadata": {
        "id": "eE0raob58DC0"
      },
      "source": [
        "## Menentukan Pertanyaan Bisnis"
      ]
    },
    {
      "cell_type": "markdown",
      "metadata": {
        "id": "GmQeQ5YF8DC0"
      },
      "source": [
        "- Bagaimana penghasilan penjualan pada tiap bulannya?\n",
        "- Bagaimana rating penjualan yang diberikan oleh customer?\n",
        "- Bagaimana demografi pelanggan?"
      ]
    },
    {
      "cell_type": "markdown",
      "metadata": {
        "id": "H-z4QGlO8DC1"
      },
      "source": [
        "## Import Semua Packages/Library yang Digunakan"
      ]
    },
    {
      "cell_type": "code",
      "execution_count": 2,
      "metadata": {
        "id": "FVYwaObI8DC1"
      },
      "outputs": [],
      "source": [
        "import numpy as np\n",
        "import pandas as pd\n",
        "import matplotlib.pyplot as plt\n",
        "import seaborn as sns"
      ]
    },
    {
      "cell_type": "markdown",
      "metadata": {
        "id": "h_Sh51Xy8DC1"
      },
      "source": [
        "## Data Wrangling"
      ]
    },
    {
      "cell_type": "markdown",
      "metadata": {
        "id": "sXU2GBYu8DC1"
      },
      "source": [
        "### Gathering Data"
      ]
    },
    {
      "cell_type": "markdown",
      "metadata": {
        "id": "eHdpt57DNb-m"
      },
      "source": [
        "Tabel customers_df"
      ]
    },
    {
      "cell_type": "code",
      "execution_count": 3,
      "metadata": {
        "colab": {
          "base_uri": "https://localhost:8080/",
          "height": 206
        },
        "id": "zjCBk1BI8DC1",
        "outputId": "6f68a52f-6df0-46e5-c215-cf829ed00166"
      },
      "outputs": [
        {
          "data": {
            "text/html": [
              "<div>\n",
              "<style scoped>\n",
              "    .dataframe tbody tr th:only-of-type {\n",
              "        vertical-align: middle;\n",
              "    }\n",
              "\n",
              "    .dataframe tbody tr th {\n",
              "        vertical-align: top;\n",
              "    }\n",
              "\n",
              "    .dataframe thead th {\n",
              "        text-align: right;\n",
              "    }\n",
              "</style>\n",
              "<table border=\"1\" class=\"dataframe\">\n",
              "  <thead>\n",
              "    <tr style=\"text-align: right;\">\n",
              "      <th></th>\n",
              "      <th>customer_id</th>\n",
              "      <th>customer_unique_id</th>\n",
              "      <th>customer_zip_code_prefix</th>\n",
              "      <th>customer_city</th>\n",
              "      <th>customer_state</th>\n",
              "    </tr>\n",
              "  </thead>\n",
              "  <tbody>\n",
              "    <tr>\n",
              "      <th>0</th>\n",
              "      <td>06b8999e2fba1a1fbc88172c00ba8bc7</td>\n",
              "      <td>861eff4711a542e4b93843c6dd7febb0</td>\n",
              "      <td>14409</td>\n",
              "      <td>franca</td>\n",
              "      <td>SP</td>\n",
              "    </tr>\n",
              "    <tr>\n",
              "      <th>1</th>\n",
              "      <td>18955e83d337fd6b2def6b18a428ac77</td>\n",
              "      <td>290c77bc529b7ac935b93aa66c333dc3</td>\n",
              "      <td>9790</td>\n",
              "      <td>sao bernardo do campo</td>\n",
              "      <td>SP</td>\n",
              "    </tr>\n",
              "    <tr>\n",
              "      <th>2</th>\n",
              "      <td>4e7b3e00288586ebd08712fdd0374a03</td>\n",
              "      <td>060e732b5b29e8181a18229c7b0b2b5e</td>\n",
              "      <td>1151</td>\n",
              "      <td>sao paulo</td>\n",
              "      <td>SP</td>\n",
              "    </tr>\n",
              "    <tr>\n",
              "      <th>3</th>\n",
              "      <td>b2b6027bc5c5109e529d4dc6358b12c3</td>\n",
              "      <td>259dac757896d24d7702b9acbbff3f3c</td>\n",
              "      <td>8775</td>\n",
              "      <td>mogi das cruzes</td>\n",
              "      <td>SP</td>\n",
              "    </tr>\n",
              "    <tr>\n",
              "      <th>4</th>\n",
              "      <td>4f2d8ab171c80ec8364f7c12e35b23ad</td>\n",
              "      <td>345ecd01c38d18a9036ed96c73b8d066</td>\n",
              "      <td>13056</td>\n",
              "      <td>campinas</td>\n",
              "      <td>SP</td>\n",
              "    </tr>\n",
              "  </tbody>\n",
              "</table>\n",
              "</div>"
            ],
            "text/plain": [
              "                        customer_id                customer_unique_id  \\\n",
              "0  06b8999e2fba1a1fbc88172c00ba8bc7  861eff4711a542e4b93843c6dd7febb0   \n",
              "1  18955e83d337fd6b2def6b18a428ac77  290c77bc529b7ac935b93aa66c333dc3   \n",
              "2  4e7b3e00288586ebd08712fdd0374a03  060e732b5b29e8181a18229c7b0b2b5e   \n",
              "3  b2b6027bc5c5109e529d4dc6358b12c3  259dac757896d24d7702b9acbbff3f3c   \n",
              "4  4f2d8ab171c80ec8364f7c12e35b23ad  345ecd01c38d18a9036ed96c73b8d066   \n",
              "\n",
              "   customer_zip_code_prefix          customer_city customer_state  \n",
              "0                     14409                 franca             SP  \n",
              "1                      9790  sao bernardo do campo             SP  \n",
              "2                      1151              sao paulo             SP  \n",
              "3                      8775        mogi das cruzes             SP  \n",
              "4                     13056               campinas             SP  "
            ]
          },
          "execution_count": 3,
          "metadata": {},
          "output_type": "execute_result"
        }
      ],
      "source": [
        "customers_df = pd.read_csv(\"dataset/customers_dataset.csv\")\n",
        "customers_df.head()"
      ]
    },
    {
      "cell_type": "markdown",
      "metadata": {
        "id": "jk21WDLyO8NW"
      },
      "source": [
        "Tabel orders_df"
      ]
    },
    {
      "cell_type": "code",
      "execution_count": 4,
      "metadata": {
        "colab": {
          "base_uri": "https://localhost:8080/",
          "height": 226
        },
        "id": "MWU8j7gRPCHy",
        "outputId": "538f7f10-1020-4767-e00b-99c0bac9d856"
      },
      "outputs": [
        {
          "data": {
            "text/html": [
              "<div>\n",
              "<style scoped>\n",
              "    .dataframe tbody tr th:only-of-type {\n",
              "        vertical-align: middle;\n",
              "    }\n",
              "\n",
              "    .dataframe tbody tr th {\n",
              "        vertical-align: top;\n",
              "    }\n",
              "\n",
              "    .dataframe thead th {\n",
              "        text-align: right;\n",
              "    }\n",
              "</style>\n",
              "<table border=\"1\" class=\"dataframe\">\n",
              "  <thead>\n",
              "    <tr style=\"text-align: right;\">\n",
              "      <th></th>\n",
              "      <th>order_id</th>\n",
              "      <th>customer_id</th>\n",
              "      <th>order_status</th>\n",
              "      <th>order_purchase_timestamp</th>\n",
              "      <th>order_approved_at</th>\n",
              "      <th>order_delivered_carrier_date</th>\n",
              "      <th>order_delivered_customer_date</th>\n",
              "      <th>order_estimated_delivery_date</th>\n",
              "    </tr>\n",
              "  </thead>\n",
              "  <tbody>\n",
              "    <tr>\n",
              "      <th>0</th>\n",
              "      <td>e481f51cbdc54678b7cc49136f2d6af7</td>\n",
              "      <td>9ef432eb6251297304e76186b10a928d</td>\n",
              "      <td>delivered</td>\n",
              "      <td>2017-10-02 10:56:33</td>\n",
              "      <td>2017-10-02 11:07:15</td>\n",
              "      <td>2017-10-04 19:55:00</td>\n",
              "      <td>2017-10-10 21:25:13</td>\n",
              "      <td>2017-10-18 00:00:00</td>\n",
              "    </tr>\n",
              "    <tr>\n",
              "      <th>1</th>\n",
              "      <td>53cdb2fc8bc7dce0b6741e2150273451</td>\n",
              "      <td>b0830fb4747a6c6d20dea0b8c802d7ef</td>\n",
              "      <td>delivered</td>\n",
              "      <td>2018-07-24 20:41:37</td>\n",
              "      <td>2018-07-26 03:24:27</td>\n",
              "      <td>2018-07-26 14:31:00</td>\n",
              "      <td>2018-08-07 15:27:45</td>\n",
              "      <td>2018-08-13 00:00:00</td>\n",
              "    </tr>\n",
              "    <tr>\n",
              "      <th>2</th>\n",
              "      <td>47770eb9100c2d0c44946d9cf07ec65d</td>\n",
              "      <td>41ce2a54c0b03bf3443c3d931a367089</td>\n",
              "      <td>delivered</td>\n",
              "      <td>2018-08-08 08:38:49</td>\n",
              "      <td>2018-08-08 08:55:23</td>\n",
              "      <td>2018-08-08 13:50:00</td>\n",
              "      <td>2018-08-17 18:06:29</td>\n",
              "      <td>2018-09-04 00:00:00</td>\n",
              "    </tr>\n",
              "    <tr>\n",
              "      <th>3</th>\n",
              "      <td>949d5b44dbf5de918fe9c16f97b45f8a</td>\n",
              "      <td>f88197465ea7920adcdbec7375364d82</td>\n",
              "      <td>delivered</td>\n",
              "      <td>2017-11-18 19:28:06</td>\n",
              "      <td>2017-11-18 19:45:59</td>\n",
              "      <td>2017-11-22 13:39:59</td>\n",
              "      <td>2017-12-02 00:28:42</td>\n",
              "      <td>2017-12-15 00:00:00</td>\n",
              "    </tr>\n",
              "    <tr>\n",
              "      <th>4</th>\n",
              "      <td>ad21c59c0840e6cb83a9ceb5573f8159</td>\n",
              "      <td>8ab97904e6daea8866dbdbc4fb7aad2c</td>\n",
              "      <td>delivered</td>\n",
              "      <td>2018-02-13 21:18:39</td>\n",
              "      <td>2018-02-13 22:20:29</td>\n",
              "      <td>2018-02-14 19:46:34</td>\n",
              "      <td>2018-02-16 18:17:02</td>\n",
              "      <td>2018-02-26 00:00:00</td>\n",
              "    </tr>\n",
              "  </tbody>\n",
              "</table>\n",
              "</div>"
            ],
            "text/plain": [
              "                           order_id                       customer_id  \\\n",
              "0  e481f51cbdc54678b7cc49136f2d6af7  9ef432eb6251297304e76186b10a928d   \n",
              "1  53cdb2fc8bc7dce0b6741e2150273451  b0830fb4747a6c6d20dea0b8c802d7ef   \n",
              "2  47770eb9100c2d0c44946d9cf07ec65d  41ce2a54c0b03bf3443c3d931a367089   \n",
              "3  949d5b44dbf5de918fe9c16f97b45f8a  f88197465ea7920adcdbec7375364d82   \n",
              "4  ad21c59c0840e6cb83a9ceb5573f8159  8ab97904e6daea8866dbdbc4fb7aad2c   \n",
              "\n",
              "  order_status order_purchase_timestamp    order_approved_at  \\\n",
              "0    delivered      2017-10-02 10:56:33  2017-10-02 11:07:15   \n",
              "1    delivered      2018-07-24 20:41:37  2018-07-26 03:24:27   \n",
              "2    delivered      2018-08-08 08:38:49  2018-08-08 08:55:23   \n",
              "3    delivered      2017-11-18 19:28:06  2017-11-18 19:45:59   \n",
              "4    delivered      2018-02-13 21:18:39  2018-02-13 22:20:29   \n",
              "\n",
              "  order_delivered_carrier_date order_delivered_customer_date  \\\n",
              "0          2017-10-04 19:55:00           2017-10-10 21:25:13   \n",
              "1          2018-07-26 14:31:00           2018-08-07 15:27:45   \n",
              "2          2018-08-08 13:50:00           2018-08-17 18:06:29   \n",
              "3          2017-11-22 13:39:59           2017-12-02 00:28:42   \n",
              "4          2018-02-14 19:46:34           2018-02-16 18:17:02   \n",
              "\n",
              "  order_estimated_delivery_date  \n",
              "0           2017-10-18 00:00:00  \n",
              "1           2018-08-13 00:00:00  \n",
              "2           2018-09-04 00:00:00  \n",
              "3           2017-12-15 00:00:00  \n",
              "4           2018-02-26 00:00:00  "
            ]
          },
          "execution_count": 4,
          "metadata": {},
          "output_type": "execute_result"
        }
      ],
      "source": [
        "orders_df = pd.read_csv(\"dataset/orders_dataset.csv\")\n",
        "orders_df.head()"
      ]
    },
    {
      "cell_type": "markdown",
      "metadata": {
        "id": "cB8UxgwNksR4"
      },
      "source": [
        "Tabel order_payments_df"
      ]
    },
    {
      "cell_type": "code",
      "execution_count": 5,
      "metadata": {
        "colab": {
          "base_uri": "https://localhost:8080/",
          "height": 206
        },
        "id": "1akWcGNekv1_",
        "outputId": "78a5c5c8-d871-429b-c869-110dea2782a5"
      },
      "outputs": [
        {
          "data": {
            "text/html": [
              "<div>\n",
              "<style scoped>\n",
              "    .dataframe tbody tr th:only-of-type {\n",
              "        vertical-align: middle;\n",
              "    }\n",
              "\n",
              "    .dataframe tbody tr th {\n",
              "        vertical-align: top;\n",
              "    }\n",
              "\n",
              "    .dataframe thead th {\n",
              "        text-align: right;\n",
              "    }\n",
              "</style>\n",
              "<table border=\"1\" class=\"dataframe\">\n",
              "  <thead>\n",
              "    <tr style=\"text-align: right;\">\n",
              "      <th></th>\n",
              "      <th>order_id</th>\n",
              "      <th>payment_sequential</th>\n",
              "      <th>payment_type</th>\n",
              "      <th>payment_installments</th>\n",
              "      <th>payment_value</th>\n",
              "    </tr>\n",
              "  </thead>\n",
              "  <tbody>\n",
              "    <tr>\n",
              "      <th>0</th>\n",
              "      <td>b81ef226f3fe1789b1e8b2acac839d17</td>\n",
              "      <td>1</td>\n",
              "      <td>credit_card</td>\n",
              "      <td>8</td>\n",
              "      <td>99.33</td>\n",
              "    </tr>\n",
              "    <tr>\n",
              "      <th>1</th>\n",
              "      <td>a9810da82917af2d9aefd1278f1dcfa0</td>\n",
              "      <td>1</td>\n",
              "      <td>credit_card</td>\n",
              "      <td>1</td>\n",
              "      <td>24.39</td>\n",
              "    </tr>\n",
              "    <tr>\n",
              "      <th>2</th>\n",
              "      <td>25e8ea4e93396b6fa0d3dd708e76c1bd</td>\n",
              "      <td>1</td>\n",
              "      <td>credit_card</td>\n",
              "      <td>1</td>\n",
              "      <td>65.71</td>\n",
              "    </tr>\n",
              "    <tr>\n",
              "      <th>3</th>\n",
              "      <td>ba78997921bbcdc1373bb41e913ab953</td>\n",
              "      <td>1</td>\n",
              "      <td>credit_card</td>\n",
              "      <td>8</td>\n",
              "      <td>107.78</td>\n",
              "    </tr>\n",
              "    <tr>\n",
              "      <th>4</th>\n",
              "      <td>42fdf880ba16b47b59251dd489d4441a</td>\n",
              "      <td>1</td>\n",
              "      <td>credit_card</td>\n",
              "      <td>2</td>\n",
              "      <td>128.45</td>\n",
              "    </tr>\n",
              "  </tbody>\n",
              "</table>\n",
              "</div>"
            ],
            "text/plain": [
              "                           order_id  payment_sequential payment_type  \\\n",
              "0  b81ef226f3fe1789b1e8b2acac839d17                   1  credit_card   \n",
              "1  a9810da82917af2d9aefd1278f1dcfa0                   1  credit_card   \n",
              "2  25e8ea4e93396b6fa0d3dd708e76c1bd                   1  credit_card   \n",
              "3  ba78997921bbcdc1373bb41e913ab953                   1  credit_card   \n",
              "4  42fdf880ba16b47b59251dd489d4441a                   1  credit_card   \n",
              "\n",
              "   payment_installments  payment_value  \n",
              "0                     8          99.33  \n",
              "1                     1          24.39  \n",
              "2                     1          65.71  \n",
              "3                     8         107.78  \n",
              "4                     2         128.45  "
            ]
          },
          "execution_count": 5,
          "metadata": {},
          "output_type": "execute_result"
        }
      ],
      "source": [
        "order_payments_df = pd.read_csv(\"dataset/order_payments_dataset.csv\")\n",
        "order_payments_df.head()"
      ]
    },
    {
      "cell_type": "markdown",
      "metadata": {
        "id": "fIYnMV0eVhaz"
      },
      "source": [
        "Tabel reviews_df"
      ]
    },
    {
      "cell_type": "code",
      "execution_count": 6,
      "metadata": {
        "colab": {
          "base_uri": "https://localhost:8080/",
          "height": 223
        },
        "id": "z-SFl__4VhHs",
        "outputId": "6ee6bc93-b229-48cc-a426-b99936317f39"
      },
      "outputs": [
        {
          "data": {
            "text/html": [
              "<div>\n",
              "<style scoped>\n",
              "    .dataframe tbody tr th:only-of-type {\n",
              "        vertical-align: middle;\n",
              "    }\n",
              "\n",
              "    .dataframe tbody tr th {\n",
              "        vertical-align: top;\n",
              "    }\n",
              "\n",
              "    .dataframe thead th {\n",
              "        text-align: right;\n",
              "    }\n",
              "</style>\n",
              "<table border=\"1\" class=\"dataframe\">\n",
              "  <thead>\n",
              "    <tr style=\"text-align: right;\">\n",
              "      <th></th>\n",
              "      <th>review_id</th>\n",
              "      <th>order_id</th>\n",
              "      <th>review_score</th>\n",
              "      <th>review_comment_title</th>\n",
              "      <th>review_comment_message</th>\n",
              "      <th>review_creation_date</th>\n",
              "      <th>review_answer_timestamp</th>\n",
              "    </tr>\n",
              "  </thead>\n",
              "  <tbody>\n",
              "    <tr>\n",
              "      <th>0</th>\n",
              "      <td>7bc2406110b926393aa56f80a40eba40</td>\n",
              "      <td>73fc7af87114b39712e6da79b0a377eb</td>\n",
              "      <td>4</td>\n",
              "      <td>NaN</td>\n",
              "      <td>NaN</td>\n",
              "      <td>2018-01-18 00:00:00</td>\n",
              "      <td>2018-01-18 21:46:59</td>\n",
              "    </tr>\n",
              "    <tr>\n",
              "      <th>1</th>\n",
              "      <td>80e641a11e56f04c1ad469d5645fdfde</td>\n",
              "      <td>a548910a1c6147796b98fdf73dbeba33</td>\n",
              "      <td>5</td>\n",
              "      <td>NaN</td>\n",
              "      <td>NaN</td>\n",
              "      <td>2018-03-10 00:00:00</td>\n",
              "      <td>2018-03-11 03:05:13</td>\n",
              "    </tr>\n",
              "    <tr>\n",
              "      <th>2</th>\n",
              "      <td>228ce5500dc1d8e020d8d1322874b6f0</td>\n",
              "      <td>f9e4b658b201a9f2ecdecbb34bed034b</td>\n",
              "      <td>5</td>\n",
              "      <td>NaN</td>\n",
              "      <td>NaN</td>\n",
              "      <td>2018-02-17 00:00:00</td>\n",
              "      <td>2018-02-18 14:36:24</td>\n",
              "    </tr>\n",
              "    <tr>\n",
              "      <th>3</th>\n",
              "      <td>e64fb393e7b32834bb789ff8bb30750e</td>\n",
              "      <td>658677c97b385a9be170737859d3511b</td>\n",
              "      <td>5</td>\n",
              "      <td>NaN</td>\n",
              "      <td>Recebi bem antes do prazo estipulado.</td>\n",
              "      <td>2017-04-21 00:00:00</td>\n",
              "      <td>2017-04-21 22:02:06</td>\n",
              "    </tr>\n",
              "    <tr>\n",
              "      <th>4</th>\n",
              "      <td>f7c4243c7fe1938f181bec41a392bdeb</td>\n",
              "      <td>8e6bfb81e283fa7e4f11123a3fb894f1</td>\n",
              "      <td>5</td>\n",
              "      <td>NaN</td>\n",
              "      <td>Parabéns lojas lannister adorei comprar pela I...</td>\n",
              "      <td>2018-03-01 00:00:00</td>\n",
              "      <td>2018-03-02 10:26:53</td>\n",
              "    </tr>\n",
              "  </tbody>\n",
              "</table>\n",
              "</div>"
            ],
            "text/plain": [
              "                          review_id                          order_id  \\\n",
              "0  7bc2406110b926393aa56f80a40eba40  73fc7af87114b39712e6da79b0a377eb   \n",
              "1  80e641a11e56f04c1ad469d5645fdfde  a548910a1c6147796b98fdf73dbeba33   \n",
              "2  228ce5500dc1d8e020d8d1322874b6f0  f9e4b658b201a9f2ecdecbb34bed034b   \n",
              "3  e64fb393e7b32834bb789ff8bb30750e  658677c97b385a9be170737859d3511b   \n",
              "4  f7c4243c7fe1938f181bec41a392bdeb  8e6bfb81e283fa7e4f11123a3fb894f1   \n",
              "\n",
              "   review_score review_comment_title  \\\n",
              "0             4                  NaN   \n",
              "1             5                  NaN   \n",
              "2             5                  NaN   \n",
              "3             5                  NaN   \n",
              "4             5                  NaN   \n",
              "\n",
              "                              review_comment_message review_creation_date  \\\n",
              "0                                                NaN  2018-01-18 00:00:00   \n",
              "1                                                NaN  2018-03-10 00:00:00   \n",
              "2                                                NaN  2018-02-17 00:00:00   \n",
              "3              Recebi bem antes do prazo estipulado.  2017-04-21 00:00:00   \n",
              "4  Parabéns lojas lannister adorei comprar pela I...  2018-03-01 00:00:00   \n",
              "\n",
              "  review_answer_timestamp  \n",
              "0     2018-01-18 21:46:59  \n",
              "1     2018-03-11 03:05:13  \n",
              "2     2018-02-18 14:36:24  \n",
              "3     2017-04-21 22:02:06  \n",
              "4     2018-03-02 10:26:53  "
            ]
          },
          "execution_count": 6,
          "metadata": {},
          "output_type": "execute_result"
        }
      ],
      "source": [
        "reviews_df = pd.read_csv(\"dataset/order_reviews_dataset.csv\")\n",
        "reviews_df.head()"
      ]
    },
    {
      "cell_type": "markdown",
      "metadata": {
        "id": "FHSiqaZp8DC1"
      },
      "source": [
        "### Assessing Data"
      ]
    },
    {
      "cell_type": "markdown",
      "metadata": {
        "id": "Dpf7BSgnpdpQ"
      },
      "source": [
        "#### Tabel customers_df"
      ]
    },
    {
      "cell_type": "code",
      "execution_count": 7,
      "metadata": {
        "colab": {
          "base_uri": "https://localhost:8080/"
        },
        "id": "oOyv_E6xqKCc",
        "outputId": "9ea16a20-3aec-47e1-abb5-bed134c984b2"
      },
      "outputs": [
        {
          "name": "stdout",
          "output_type": "stream",
          "text": [
            "<class 'pandas.core.frame.DataFrame'>\n",
            "RangeIndex: 99441 entries, 0 to 99440\n",
            "Data columns (total 5 columns):\n",
            " #   Column                    Non-Null Count  Dtype \n",
            "---  ------                    --------------  ----- \n",
            " 0   customer_id               99441 non-null  object\n",
            " 1   customer_unique_id        99441 non-null  object\n",
            " 2   customer_zip_code_prefix  99441 non-null  int64 \n",
            " 3   customer_city             99441 non-null  object\n",
            " 4   customer_state            99441 non-null  object\n",
            "dtypes: int64(1), object(4)\n",
            "memory usage: 3.8+ MB\n"
          ]
        }
      ],
      "source": [
        "customers_df.info()"
      ]
    },
    {
      "cell_type": "code",
      "execution_count": 8,
      "metadata": {
        "colab": {
          "base_uri": "https://localhost:8080/"
        },
        "id": "G1_stQ4aqdO9",
        "outputId": "808e2376-eb23-461a-82de-a44879e7db0a"
      },
      "outputs": [
        {
          "data": {
            "text/plain": [
              "customer_id                 0\n",
              "customer_unique_id          0\n",
              "customer_zip_code_prefix    0\n",
              "customer_city               0\n",
              "customer_state              0\n",
              "dtype: int64"
            ]
          },
          "execution_count": 8,
          "metadata": {},
          "output_type": "execute_result"
        }
      ],
      "source": [
        "customers_df.isna().sum()"
      ]
    },
    {
      "cell_type": "code",
      "execution_count": 9,
      "metadata": {
        "colab": {
          "base_uri": "https://localhost:8080/"
        },
        "id": "ntcRwwLiqkAI",
        "outputId": "65a63005-5795-403d-d546-bd8e4ef4676f"
      },
      "outputs": [
        {
          "name": "stdout",
          "output_type": "stream",
          "text": [
            "Jumlah duplikasi baris:  0\n"
          ]
        }
      ],
      "source": [
        "print(\"Jumlah duplikasi baris: \", customers_df.duplicated().sum())"
      ]
    },
    {
      "cell_type": "markdown",
      "metadata": {
        "id": "_qhRuq5Epdiy"
      },
      "source": [
        "#### Tabel orders_df"
      ]
    },
    {
      "cell_type": "code",
      "execution_count": 10,
      "metadata": {
        "colab": {
          "base_uri": "https://localhost:8080/"
        },
        "id": "9E3Dhw4hqKuP",
        "outputId": "b7c77688-f21a-4542-d0c3-101ec8e942da"
      },
      "outputs": [
        {
          "name": "stdout",
          "output_type": "stream",
          "text": [
            "<class 'pandas.core.frame.DataFrame'>\n",
            "RangeIndex: 99441 entries, 0 to 99440\n",
            "Data columns (total 8 columns):\n",
            " #   Column                         Non-Null Count  Dtype \n",
            "---  ------                         --------------  ----- \n",
            " 0   order_id                       99441 non-null  object\n",
            " 1   customer_id                    99441 non-null  object\n",
            " 2   order_status                   99441 non-null  object\n",
            " 3   order_purchase_timestamp       99441 non-null  object\n",
            " 4   order_approved_at              99281 non-null  object\n",
            " 5   order_delivered_carrier_date   97658 non-null  object\n",
            " 6   order_delivered_customer_date  96476 non-null  object\n",
            " 7   order_estimated_delivery_date  99441 non-null  object\n",
            "dtypes: object(8)\n",
            "memory usage: 6.1+ MB\n"
          ]
        }
      ],
      "source": [
        "orders_df.info()"
      ]
    },
    {
      "cell_type": "code",
      "execution_count": 11,
      "metadata": {
        "colab": {
          "base_uri": "https://localhost:8080/"
        },
        "id": "qi2IIU54qunI",
        "outputId": "a292f430-5a09-417e-bcd5-2cdd3163de54"
      },
      "outputs": [
        {
          "data": {
            "text/plain": [
              "order_id                            0\n",
              "customer_id                         0\n",
              "order_status                        0\n",
              "order_purchase_timestamp            0\n",
              "order_approved_at                 160\n",
              "order_delivered_carrier_date     1783\n",
              "order_delivered_customer_date    2965\n",
              "order_estimated_delivery_date       0\n",
              "dtype: int64"
            ]
          },
          "execution_count": 11,
          "metadata": {},
          "output_type": "execute_result"
        }
      ],
      "source": [
        "orders_df.isna().sum()"
      ]
    },
    {
      "cell_type": "code",
      "execution_count": 12,
      "metadata": {
        "colab": {
          "base_uri": "https://localhost:8080/"
        },
        "id": "On1Wh5X2qzOr",
        "outputId": "84f79291-9707-45a4-e4d9-5093ca95a0a5"
      },
      "outputs": [
        {
          "name": "stdout",
          "output_type": "stream",
          "text": [
            "Jumlah duplikasi baris:  0\n"
          ]
        }
      ],
      "source": [
        "print(\"Jumlah duplikasi baris: \", customers_df.duplicated().sum())"
      ]
    },
    {
      "cell_type": "markdown",
      "metadata": {
        "id": "hHY5ZA-_pdY3"
      },
      "source": [
        "#### Tabel order_payments_df"
      ]
    },
    {
      "cell_type": "code",
      "execution_count": 13,
      "metadata": {
        "colab": {
          "base_uri": "https://localhost:8080/"
        },
        "id": "F0oi5Bd0rCH9",
        "outputId": "dbc68bd7-e35d-4aca-f6ab-5f1a3e1a7839"
      },
      "outputs": [
        {
          "name": "stdout",
          "output_type": "stream",
          "text": [
            "<class 'pandas.core.frame.DataFrame'>\n",
            "RangeIndex: 103886 entries, 0 to 103885\n",
            "Data columns (total 5 columns):\n",
            " #   Column                Non-Null Count   Dtype  \n",
            "---  ------                --------------   -----  \n",
            " 0   order_id              103886 non-null  object \n",
            " 1   payment_sequential    103886 non-null  int64  \n",
            " 2   payment_type          103886 non-null  object \n",
            " 3   payment_installments  103886 non-null  int64  \n",
            " 4   payment_value         103886 non-null  float64\n",
            "dtypes: float64(1), int64(2), object(2)\n",
            "memory usage: 4.0+ MB\n"
          ]
        }
      ],
      "source": [
        "order_payments_df.info()"
      ]
    },
    {
      "cell_type": "code",
      "execution_count": 14,
      "metadata": {
        "colab": {
          "base_uri": "https://localhost:8080/"
        },
        "id": "Voc_yfMcrXMz",
        "outputId": "c7650867-84e3-4264-f040-b45cd8eba8e7"
      },
      "outputs": [
        {
          "data": {
            "text/plain": [
              "order_id                0\n",
              "payment_sequential      0\n",
              "payment_type            0\n",
              "payment_installments    0\n",
              "payment_value           0\n",
              "dtype: int64"
            ]
          },
          "execution_count": 14,
          "metadata": {},
          "output_type": "execute_result"
        }
      ],
      "source": [
        "order_payments_df.isna().sum()"
      ]
    },
    {
      "cell_type": "code",
      "execution_count": 15,
      "metadata": {
        "colab": {
          "base_uri": "https://localhost:8080/",
          "height": 317
        },
        "id": "AmEEFlp7qLH5",
        "outputId": "64585f2c-43db-4ff3-ffa4-958aaf12b828"
      },
      "outputs": [
        {
          "name": "stdout",
          "output_type": "stream",
          "text": [
            "Jumlah duplikasi baris:  0\n"
          ]
        },
        {
          "data": {
            "text/html": [
              "<div>\n",
              "<style scoped>\n",
              "    .dataframe tbody tr th:only-of-type {\n",
              "        vertical-align: middle;\n",
              "    }\n",
              "\n",
              "    .dataframe tbody tr th {\n",
              "        vertical-align: top;\n",
              "    }\n",
              "\n",
              "    .dataframe thead th {\n",
              "        text-align: right;\n",
              "    }\n",
              "</style>\n",
              "<table border=\"1\" class=\"dataframe\">\n",
              "  <thead>\n",
              "    <tr style=\"text-align: right;\">\n",
              "      <th></th>\n",
              "      <th>payment_sequential</th>\n",
              "      <th>payment_installments</th>\n",
              "      <th>payment_value</th>\n",
              "    </tr>\n",
              "  </thead>\n",
              "  <tbody>\n",
              "    <tr>\n",
              "      <th>count</th>\n",
              "      <td>103886.000000</td>\n",
              "      <td>103886.000000</td>\n",
              "      <td>103886.000000</td>\n",
              "    </tr>\n",
              "    <tr>\n",
              "      <th>mean</th>\n",
              "      <td>1.092679</td>\n",
              "      <td>2.853349</td>\n",
              "      <td>154.100380</td>\n",
              "    </tr>\n",
              "    <tr>\n",
              "      <th>std</th>\n",
              "      <td>0.706584</td>\n",
              "      <td>2.687051</td>\n",
              "      <td>217.494064</td>\n",
              "    </tr>\n",
              "    <tr>\n",
              "      <th>min</th>\n",
              "      <td>1.000000</td>\n",
              "      <td>0.000000</td>\n",
              "      <td>0.000000</td>\n",
              "    </tr>\n",
              "    <tr>\n",
              "      <th>25%</th>\n",
              "      <td>1.000000</td>\n",
              "      <td>1.000000</td>\n",
              "      <td>56.790000</td>\n",
              "    </tr>\n",
              "    <tr>\n",
              "      <th>50%</th>\n",
              "      <td>1.000000</td>\n",
              "      <td>1.000000</td>\n",
              "      <td>100.000000</td>\n",
              "    </tr>\n",
              "    <tr>\n",
              "      <th>75%</th>\n",
              "      <td>1.000000</td>\n",
              "      <td>4.000000</td>\n",
              "      <td>171.837500</td>\n",
              "    </tr>\n",
              "    <tr>\n",
              "      <th>max</th>\n",
              "      <td>29.000000</td>\n",
              "      <td>24.000000</td>\n",
              "      <td>13664.080000</td>\n",
              "    </tr>\n",
              "  </tbody>\n",
              "</table>\n",
              "</div>"
            ],
            "text/plain": [
              "       payment_sequential  payment_installments  payment_value\n",
              "count       103886.000000         103886.000000  103886.000000\n",
              "mean             1.092679              2.853349     154.100380\n",
              "std              0.706584              2.687051     217.494064\n",
              "min              1.000000              0.000000       0.000000\n",
              "25%              1.000000              1.000000      56.790000\n",
              "50%              1.000000              1.000000     100.000000\n",
              "75%              1.000000              4.000000     171.837500\n",
              "max             29.000000             24.000000   13664.080000"
            ]
          },
          "execution_count": 15,
          "metadata": {},
          "output_type": "execute_result"
        }
      ],
      "source": [
        "print(\"Jumlah duplikasi baris: \", order_payments_df.duplicated().sum())\n",
        "order_payments_df.describe()"
      ]
    },
    {
      "cell_type": "markdown",
      "metadata": {
        "id": "YnuMRPjgorom"
      },
      "source": [
        "#### Tabel reviews_df"
      ]
    },
    {
      "cell_type": "code",
      "execution_count": 16,
      "metadata": {
        "colab": {
          "base_uri": "https://localhost:8080/"
        },
        "id": "pBdzz-RUqLsj",
        "outputId": "9e65aec5-50c8-46ac-cf27-80fc24bc0369"
      },
      "outputs": [
        {
          "name": "stdout",
          "output_type": "stream",
          "text": [
            "<class 'pandas.core.frame.DataFrame'>\n",
            "RangeIndex: 99224 entries, 0 to 99223\n",
            "Data columns (total 7 columns):\n",
            " #   Column                   Non-Null Count  Dtype \n",
            "---  ------                   --------------  ----- \n",
            " 0   review_id                99224 non-null  object\n",
            " 1   order_id                 99224 non-null  object\n",
            " 2   review_score             99224 non-null  int64 \n",
            " 3   review_comment_title     11568 non-null  object\n",
            " 4   review_comment_message   40977 non-null  object\n",
            " 5   review_creation_date     99224 non-null  object\n",
            " 6   review_answer_timestamp  99224 non-null  object\n",
            "dtypes: int64(1), object(6)\n",
            "memory usage: 5.3+ MB\n"
          ]
        }
      ],
      "source": [
        "reviews_df.info()"
      ]
    },
    {
      "cell_type": "code",
      "execution_count": 17,
      "metadata": {
        "colab": {
          "base_uri": "https://localhost:8080/"
        },
        "id": "qTbWc2sxsJFD",
        "outputId": "80643df5-dd6e-444e-9e2a-d87010ed8563"
      },
      "outputs": [
        {
          "data": {
            "text/plain": [
              "review_id                      0\n",
              "order_id                       0\n",
              "review_score                   0\n",
              "review_comment_title       87656\n",
              "review_comment_message     58247\n",
              "review_creation_date           0\n",
              "review_answer_timestamp        0\n",
              "dtype: int64"
            ]
          },
          "execution_count": 17,
          "metadata": {},
          "output_type": "execute_result"
        }
      ],
      "source": [
        "reviews_df.isna().sum()"
      ]
    },
    {
      "cell_type": "code",
      "execution_count": 18,
      "metadata": {
        "colab": {
          "base_uri": "https://localhost:8080/",
          "height": 317
        },
        "id": "fxzix6w2s8OJ",
        "outputId": "88fee712-407a-4025-9576-c0fafda2ccf7"
      },
      "outputs": [
        {
          "name": "stdout",
          "output_type": "stream",
          "text": [
            "Jumlah duplikasi baris:  0\n"
          ]
        },
        {
          "data": {
            "text/html": [
              "<div>\n",
              "<style scoped>\n",
              "    .dataframe tbody tr th:only-of-type {\n",
              "        vertical-align: middle;\n",
              "    }\n",
              "\n",
              "    .dataframe tbody tr th {\n",
              "        vertical-align: top;\n",
              "    }\n",
              "\n",
              "    .dataframe thead th {\n",
              "        text-align: right;\n",
              "    }\n",
              "</style>\n",
              "<table border=\"1\" class=\"dataframe\">\n",
              "  <thead>\n",
              "    <tr style=\"text-align: right;\">\n",
              "      <th></th>\n",
              "      <th>review_score</th>\n",
              "    </tr>\n",
              "  </thead>\n",
              "  <tbody>\n",
              "    <tr>\n",
              "      <th>count</th>\n",
              "      <td>99224.000000</td>\n",
              "    </tr>\n",
              "    <tr>\n",
              "      <th>mean</th>\n",
              "      <td>4.086421</td>\n",
              "    </tr>\n",
              "    <tr>\n",
              "      <th>std</th>\n",
              "      <td>1.347579</td>\n",
              "    </tr>\n",
              "    <tr>\n",
              "      <th>min</th>\n",
              "      <td>1.000000</td>\n",
              "    </tr>\n",
              "    <tr>\n",
              "      <th>25%</th>\n",
              "      <td>4.000000</td>\n",
              "    </tr>\n",
              "    <tr>\n",
              "      <th>50%</th>\n",
              "      <td>5.000000</td>\n",
              "    </tr>\n",
              "    <tr>\n",
              "      <th>75%</th>\n",
              "      <td>5.000000</td>\n",
              "    </tr>\n",
              "    <tr>\n",
              "      <th>max</th>\n",
              "      <td>5.000000</td>\n",
              "    </tr>\n",
              "  </tbody>\n",
              "</table>\n",
              "</div>"
            ],
            "text/plain": [
              "       review_score\n",
              "count  99224.000000\n",
              "mean       4.086421\n",
              "std        1.347579\n",
              "min        1.000000\n",
              "25%        4.000000\n",
              "50%        5.000000\n",
              "75%        5.000000\n",
              "max        5.000000"
            ]
          },
          "execution_count": 18,
          "metadata": {},
          "output_type": "execute_result"
        }
      ],
      "source": [
        "print(\"Jumlah duplikasi baris: \", reviews_df.duplicated().sum())\n",
        "\n",
        "reviews_df.describe()"
      ]
    },
    {
      "cell_type": "markdown",
      "metadata": {
        "id": "EhN5R4hr8DC1"
      },
      "source": [
        "### Cleaning Data"
      ]
    },
    {
      "cell_type": "markdown",
      "metadata": {
        "id": "EpgdHq0KQD_5"
      },
      "source": [
        "#### Tabel orders_df"
      ]
    },
    {
      "cell_type": "code",
      "execution_count": 19,
      "metadata": {
        "id": "jVnYpprE9Evz"
      },
      "outputs": [],
      "source": [
        "orders_df.fillna(value=pd.Timestamp.min, inplace=True)"
      ]
    },
    {
      "cell_type": "code",
      "execution_count": 20,
      "metadata": {
        "colab": {
          "base_uri": "https://localhost:8080/"
        },
        "id": "sVciyHFMRSc_",
        "outputId": "267d1452-3e69-4750-a809-72f2ff69a22f"
      },
      "outputs": [
        {
          "data": {
            "text/plain": [
              "order_id                         0\n",
              "customer_id                      0\n",
              "order_status                     0\n",
              "order_purchase_timestamp         0\n",
              "order_approved_at                0\n",
              "order_delivered_carrier_date     0\n",
              "order_delivered_customer_date    0\n",
              "order_estimated_delivery_date    0\n",
              "dtype: int64"
            ]
          },
          "execution_count": 20,
          "metadata": {},
          "output_type": "execute_result"
        }
      ],
      "source": [
        "orders_df.isna().sum()"
      ]
    },
    {
      "cell_type": "markdown",
      "metadata": {
        "id": "jJc3EaxL9T9R"
      },
      "source": [
        "Change data type to datetime"
      ]
    },
    {
      "cell_type": "code",
      "execution_count": 21,
      "metadata": {
        "colab": {
          "base_uri": "https://localhost:8080/"
        },
        "id": "vx0JIxWP9WiV",
        "outputId": "d5711f8f-8d4c-4b7a-aed5-21adc7a24cdd"
      },
      "outputs": [
        {
          "name": "stdout",
          "output_type": "stream",
          "text": [
            "<class 'pandas.core.frame.DataFrame'>\n",
            "RangeIndex: 99441 entries, 0 to 99440\n",
            "Data columns (total 8 columns):\n",
            " #   Column                         Non-Null Count  Dtype \n",
            "---  ------                         --------------  ----- \n",
            " 0   order_id                       99441 non-null  object\n",
            " 1   customer_id                    99441 non-null  object\n",
            " 2   order_status                   99441 non-null  object\n",
            " 3   order_purchase_timestamp       99441 non-null  object\n",
            " 4   order_approved_at              99441 non-null  object\n",
            " 5   order_delivered_carrier_date   99441 non-null  object\n",
            " 6   order_delivered_customer_date  99441 non-null  object\n",
            " 7   order_estimated_delivery_date  99441 non-null  object\n",
            "dtypes: object(8)\n",
            "memory usage: 6.1+ MB\n"
          ]
        }
      ],
      "source": [
        "orders_df.info()"
      ]
    },
    {
      "cell_type": "code",
      "execution_count": 22,
      "metadata": {
        "id": "yc1C4_UH9UX7"
      },
      "outputs": [],
      "source": [
        "orders_df['order_purchase_timestamp'] = pd.to_datetime(orders_df['order_purchase_timestamp'])\n",
        "orders_df['order_approved_at'] = pd.to_datetime(orders_df['order_approved_at'])\n",
        "orders_df['order_delivered_carrier_date'] = pd.to_datetime(orders_df['order_delivered_carrier_date'])\n",
        "orders_df['order_delivered_customer_date'] = pd.to_datetime(orders_df['order_delivered_customer_date'])\n",
        "orders_df['order_estimated_delivery_date'] = pd.to_datetime(orders_df['order_estimated_delivery_date'])"
      ]
    },
    {
      "cell_type": "code",
      "execution_count": 23,
      "metadata": {
        "colab": {
          "base_uri": "https://localhost:8080/"
        },
        "id": "EPiqT7IQ9nXY",
        "outputId": "30e4b823-f38e-4c5a-cdec-8fa8e96e894f"
      },
      "outputs": [
        {
          "name": "stdout",
          "output_type": "stream",
          "text": [
            "<class 'pandas.core.frame.DataFrame'>\n",
            "RangeIndex: 99441 entries, 0 to 99440\n",
            "Data columns (total 8 columns):\n",
            " #   Column                         Non-Null Count  Dtype         \n",
            "---  ------                         --------------  -----         \n",
            " 0   order_id                       99441 non-null  object        \n",
            " 1   customer_id                    99441 non-null  object        \n",
            " 2   order_status                   99441 non-null  object        \n",
            " 3   order_purchase_timestamp       99441 non-null  datetime64[ns]\n",
            " 4   order_approved_at              99441 non-null  datetime64[ns]\n",
            " 5   order_delivered_carrier_date   99441 non-null  datetime64[ns]\n",
            " 6   order_delivered_customer_date  99441 non-null  datetime64[ns]\n",
            " 7   order_estimated_delivery_date  99441 non-null  datetime64[ns]\n",
            "dtypes: datetime64[ns](5), object(3)\n",
            "memory usage: 6.1+ MB\n"
          ]
        }
      ],
      "source": [
        "orders_df.info()"
      ]
    },
    {
      "cell_type": "markdown",
      "metadata": {
        "id": "VmiipXo5RZF3"
      },
      "source": [
        "#### Tabel reviews_df"
      ]
    },
    {
      "cell_type": "code",
      "execution_count": 24,
      "metadata": {
        "id": "24mtCVVwRbGM"
      },
      "outputs": [],
      "source": [
        "reviews_df.fillna(value=\"Tidak ada komentar.\", inplace=True)    # Mengubah null value menjadi 'Tidak ada komentar'."
      ]
    },
    {
      "cell_type": "code",
      "execution_count": 25,
      "metadata": {
        "colab": {
          "base_uri": "https://localhost:8080/"
        },
        "id": "c_TPkpgQRlKE",
        "outputId": "eb9ed60f-9221-4b16-ab81-bc833d88489f"
      },
      "outputs": [
        {
          "data": {
            "text/plain": [
              "review_id                  0\n",
              "order_id                   0\n",
              "review_score               0\n",
              "review_comment_title       0\n",
              "review_comment_message     0\n",
              "review_creation_date       0\n",
              "review_answer_timestamp    0\n",
              "dtype: int64"
            ]
          },
          "execution_count": 25,
          "metadata": {},
          "output_type": "execute_result"
        }
      ],
      "source": [
        "reviews_df.isna().sum()"
      ]
    },
    {
      "cell_type": "markdown",
      "metadata": {
        "id": "MWFgm3qs96O5"
      },
      "source": [
        "Change data type to datetime"
      ]
    },
    {
      "cell_type": "code",
      "execution_count": 26,
      "metadata": {
        "colab": {
          "base_uri": "https://localhost:8080/"
        },
        "id": "m9gz5KG6_N4a",
        "outputId": "c31a3fda-05cb-49e2-948e-225ac4d0e9da"
      },
      "outputs": [
        {
          "name": "stdout",
          "output_type": "stream",
          "text": [
            "<class 'pandas.core.frame.DataFrame'>\n",
            "RangeIndex: 99224 entries, 0 to 99223\n",
            "Data columns (total 7 columns):\n",
            " #   Column                   Non-Null Count  Dtype \n",
            "---  ------                   --------------  ----- \n",
            " 0   review_id                99224 non-null  object\n",
            " 1   order_id                 99224 non-null  object\n",
            " 2   review_score             99224 non-null  int64 \n",
            " 3   review_comment_title     99224 non-null  object\n",
            " 4   review_comment_message   99224 non-null  object\n",
            " 5   review_creation_date     99224 non-null  object\n",
            " 6   review_answer_timestamp  99224 non-null  object\n",
            "dtypes: int64(1), object(6)\n",
            "memory usage: 5.3+ MB\n"
          ]
        }
      ],
      "source": [
        "reviews_df.info()"
      ]
    },
    {
      "cell_type": "code",
      "execution_count": 27,
      "metadata": {
        "id": "XTDiCosG987m"
      },
      "outputs": [],
      "source": [
        "reviews_df['review_creation_date'] = pd.to_datetime(reviews_df['review_creation_date'])\n",
        "reviews_df['review_answer_timestamp'] = pd.to_datetime(reviews_df['review_answer_timestamp'])"
      ]
    },
    {
      "cell_type": "code",
      "execution_count": 28,
      "metadata": {
        "colab": {
          "base_uri": "https://localhost:8080/"
        },
        "id": "QGaRCLIH_QS2",
        "outputId": "66addb6d-1700-49c5-c077-c012c76e3d45"
      },
      "outputs": [
        {
          "name": "stdout",
          "output_type": "stream",
          "text": [
            "<class 'pandas.core.frame.DataFrame'>\n",
            "RangeIndex: 99224 entries, 0 to 99223\n",
            "Data columns (total 7 columns):\n",
            " #   Column                   Non-Null Count  Dtype         \n",
            "---  ------                   --------------  -----         \n",
            " 0   review_id                99224 non-null  object        \n",
            " 1   order_id                 99224 non-null  object        \n",
            " 2   review_score             99224 non-null  int64         \n",
            " 3   review_comment_title     99224 non-null  object        \n",
            " 4   review_comment_message   99224 non-null  object        \n",
            " 5   review_creation_date     99224 non-null  datetime64[ns]\n",
            " 6   review_answer_timestamp  99224 non-null  datetime64[ns]\n",
            "dtypes: datetime64[ns](2), int64(1), object(4)\n",
            "memory usage: 5.3+ MB\n"
          ]
        }
      ],
      "source": [
        "reviews_df.info()"
      ]
    },
    {
      "cell_type": "markdown",
      "metadata": {
        "id": "gp-Y6wU38DC1"
      },
      "source": [
        "## Exploratory Data Analysis (EDA)"
      ]
    },
    {
      "cell_type": "markdown",
      "metadata": {
        "id": "MW7WF2kr8DC1"
      },
      "source": [
        "### Explore customers_df"
      ]
    },
    {
      "cell_type": "markdown",
      "metadata": {
        "id": "t5FyZ0bdfo6B"
      },
      "source": [
        "Menghitung jumlah customer berdasarkan asal kota"
      ]
    },
    {
      "cell_type": "code",
      "execution_count": 29,
      "metadata": {
        "colab": {
          "base_uri": "https://localhost:8080/"
        },
        "id": "e9CQCZjk8DC2",
        "outputId": "defe9398-20d9-4d1b-f680-975d061b4a60"
      },
      "outputs": [
        {
          "data": {
            "text/plain": [
              "customer_city\n",
              "sao paulo         15540\n",
              "rio de janeiro     6882\n",
              "belo horizonte     2773\n",
              "brasilia           2131\n",
              "curitiba           1521\n",
              "                  ...  \n",
              "ibiara                1\n",
              "rio espera            1\n",
              "rio dos indios        1\n",
              "rio dos cedros        1\n",
              "lagoao                1\n",
              "Name: customer_id, Length: 4119, dtype: int64"
            ]
          },
          "execution_count": 29,
          "metadata": {},
          "output_type": "execute_result"
        }
      ],
      "source": [
        "customers_df.groupby(by=\"customer_city\").customer_id.nunique().sort_values(ascending=False)"
      ]
    },
    {
      "cell_type": "markdown",
      "metadata": {
        "id": "Us1QzwO4fsqI"
      },
      "source": [
        "Menghitung jumlah customer berdassarkan asal negara"
      ]
    },
    {
      "cell_type": "code",
      "execution_count": 30,
      "metadata": {
        "colab": {
          "base_uri": "https://localhost:8080/"
        },
        "id": "ygbIRKQLZKQw",
        "outputId": "94c13e49-285d-46ff-ec39-b3e00e308521"
      },
      "outputs": [
        {
          "data": {
            "text/plain": [
              "customer_state\n",
              "SP    41746\n",
              "RJ    12852\n",
              "MG    11635\n",
              "RS     5466\n",
              "PR     5045\n",
              "SC     3637\n",
              "BA     3380\n",
              "DF     2140\n",
              "ES     2033\n",
              "GO     2020\n",
              "PE     1652\n",
              "CE     1336\n",
              "PA      975\n",
              "MT      907\n",
              "MA      747\n",
              "MS      715\n",
              "PB      536\n",
              "PI      495\n",
              "RN      485\n",
              "AL      413\n",
              "SE      350\n",
              "TO      280\n",
              "RO      253\n",
              "AM      148\n",
              "AC       81\n",
              "AP       68\n",
              "RR       46\n",
              "Name: customer_id, dtype: int64"
            ]
          },
          "execution_count": 30,
          "metadata": {},
          "output_type": "execute_result"
        }
      ],
      "source": [
        "customers_df.groupby(by=\"customer_state\").customer_id.nunique().sort_values(ascending=False)"
      ]
    },
    {
      "cell_type": "markdown",
      "metadata": {
        "id": "ZB0Bi36vZS1B"
      },
      "source": [
        "### Explore orders_df"
      ]
    },
    {
      "cell_type": "markdown",
      "metadata": {
        "id": "LtNcCS9wf9zW"
      },
      "source": [
        "Menghitung jumlah status dari order yang ada"
      ]
    },
    {
      "cell_type": "code",
      "execution_count": 31,
      "metadata": {
        "colab": {
          "base_uri": "https://localhost:8080/"
        },
        "id": "SVnssbhXZXGU",
        "outputId": "f7f43b13-6493-4d1c-ce23-1a7bf2995fb6"
      },
      "outputs": [
        {
          "data": {
            "text/plain": [
              "order_status\n",
              "delivered      96478\n",
              "shipped         1107\n",
              "canceled         625\n",
              "unavailable      609\n",
              "invoiced         314\n",
              "processing       301\n",
              "created            5\n",
              "approved           2\n",
              "Name: order_id, dtype: int64"
            ]
          },
          "execution_count": 31,
          "metadata": {},
          "output_type": "execute_result"
        }
      ],
      "source": [
        "orders_df.groupby(by=\"order_status\").order_id.nunique().sort_values(ascending=False)"
      ]
    },
    {
      "cell_type": "markdown",
      "metadata": {
        "id": "SsDjWov8aDme"
      },
      "source": [
        "### Explore order_payments_df"
      ]
    },
    {
      "cell_type": "markdown",
      "metadata": {
        "id": "miKuaAOjgC1P"
      },
      "source": [
        "Menghitung jumlah metode pembayaran yang dilakukan oleh customer"
      ]
    },
    {
      "cell_type": "code",
      "execution_count": 32,
      "metadata": {
        "colab": {
          "base_uri": "https://localhost:8080/"
        },
        "id": "PoGd5PraaJV0",
        "outputId": "17575b5f-87fe-4f4e-c980-fde420aedd34"
      },
      "outputs": [
        {
          "data": {
            "text/plain": [
              "payment_type\n",
              "credit_card    76505\n",
              "boleto         19784\n",
              "voucher         3866\n",
              "debit_card      1528\n",
              "not_defined        3\n",
              "Name: order_id, dtype: int64"
            ]
          },
          "execution_count": 32,
          "metadata": {},
          "output_type": "execute_result"
        }
      ],
      "source": [
        "order_payments_df.groupby(by=\"payment_type\").order_id.nunique().sort_values(ascending=False)"
      ]
    },
    {
      "cell_type": "markdown",
      "metadata": {
        "id": "5OHZRNQTfE9b"
      },
      "source": [
        "### Explore reviews_df"
      ]
    },
    {
      "cell_type": "code",
      "execution_count": 33,
      "metadata": {
        "colab": {
          "base_uri": "https://localhost:8080/"
        },
        "id": "jHurW-CTfPSx",
        "outputId": "d884f226-6a0b-4dfb-de31-7f79c99c4391"
      },
      "outputs": [
        {
          "data": {
            "text/plain": [
              "review_score\n",
              "5    57076\n",
              "4    19098\n",
              "1    11393\n",
              "3     8160\n",
              "2     3148\n",
              "Name: order_id, dtype: int64"
            ]
          },
          "execution_count": 33,
          "metadata": {},
          "output_type": "execute_result"
        }
      ],
      "source": [
        "reviews_df.groupby(by=\"review_score\").order_id.nunique().sort_values(ascending=False)"
      ]
    },
    {
      "cell_type": "markdown",
      "metadata": {
        "id": "_5MCyuYG3cxG"
      },
      "source": [
        "Tabel order_with_payments_df"
      ]
    },
    {
      "cell_type": "code",
      "execution_count": 34,
      "metadata": {
        "colab": {
          "base_uri": "https://localhost:8080/",
          "height": 226
        },
        "id": "1zmBm-mz3e3f",
        "outputId": "70845bd3-b9dd-4cad-e967-d2068509f256"
      },
      "outputs": [
        {
          "data": {
            "text/html": [
              "<div>\n",
              "<style scoped>\n",
              "    .dataframe tbody tr th:only-of-type {\n",
              "        vertical-align: middle;\n",
              "    }\n",
              "\n",
              "    .dataframe tbody tr th {\n",
              "        vertical-align: top;\n",
              "    }\n",
              "\n",
              "    .dataframe thead th {\n",
              "        text-align: right;\n",
              "    }\n",
              "</style>\n",
              "<table border=\"1\" class=\"dataframe\">\n",
              "  <thead>\n",
              "    <tr style=\"text-align: right;\">\n",
              "      <th></th>\n",
              "      <th>order_id</th>\n",
              "      <th>customer_id</th>\n",
              "      <th>order_status</th>\n",
              "      <th>order_purchase_timestamp</th>\n",
              "      <th>order_approved_at</th>\n",
              "      <th>order_delivered_carrier_date</th>\n",
              "      <th>order_delivered_customer_date</th>\n",
              "      <th>order_estimated_delivery_date</th>\n",
              "      <th>payment_sequential</th>\n",
              "      <th>payment_type</th>\n",
              "      <th>payment_installments</th>\n",
              "      <th>payment_value</th>\n",
              "    </tr>\n",
              "  </thead>\n",
              "  <tbody>\n",
              "    <tr>\n",
              "      <th>0</th>\n",
              "      <td>e481f51cbdc54678b7cc49136f2d6af7</td>\n",
              "      <td>9ef432eb6251297304e76186b10a928d</td>\n",
              "      <td>delivered</td>\n",
              "      <td>2017-10-02 10:56:33</td>\n",
              "      <td>2017-10-02 11:07:15</td>\n",
              "      <td>2017-10-04 19:55:00</td>\n",
              "      <td>2017-10-10 21:25:13</td>\n",
              "      <td>2017-10-18</td>\n",
              "      <td>1.0</td>\n",
              "      <td>credit_card</td>\n",
              "      <td>1.0</td>\n",
              "      <td>18.12</td>\n",
              "    </tr>\n",
              "    <tr>\n",
              "      <th>1</th>\n",
              "      <td>e481f51cbdc54678b7cc49136f2d6af7</td>\n",
              "      <td>9ef432eb6251297304e76186b10a928d</td>\n",
              "      <td>delivered</td>\n",
              "      <td>2017-10-02 10:56:33</td>\n",
              "      <td>2017-10-02 11:07:15</td>\n",
              "      <td>2017-10-04 19:55:00</td>\n",
              "      <td>2017-10-10 21:25:13</td>\n",
              "      <td>2017-10-18</td>\n",
              "      <td>3.0</td>\n",
              "      <td>voucher</td>\n",
              "      <td>1.0</td>\n",
              "      <td>2.00</td>\n",
              "    </tr>\n",
              "    <tr>\n",
              "      <th>2</th>\n",
              "      <td>e481f51cbdc54678b7cc49136f2d6af7</td>\n",
              "      <td>9ef432eb6251297304e76186b10a928d</td>\n",
              "      <td>delivered</td>\n",
              "      <td>2017-10-02 10:56:33</td>\n",
              "      <td>2017-10-02 11:07:15</td>\n",
              "      <td>2017-10-04 19:55:00</td>\n",
              "      <td>2017-10-10 21:25:13</td>\n",
              "      <td>2017-10-18</td>\n",
              "      <td>2.0</td>\n",
              "      <td>voucher</td>\n",
              "      <td>1.0</td>\n",
              "      <td>18.59</td>\n",
              "    </tr>\n",
              "    <tr>\n",
              "      <th>3</th>\n",
              "      <td>53cdb2fc8bc7dce0b6741e2150273451</td>\n",
              "      <td>b0830fb4747a6c6d20dea0b8c802d7ef</td>\n",
              "      <td>delivered</td>\n",
              "      <td>2018-07-24 20:41:37</td>\n",
              "      <td>2018-07-26 03:24:27</td>\n",
              "      <td>2018-07-26 14:31:00</td>\n",
              "      <td>2018-08-07 15:27:45</td>\n",
              "      <td>2018-08-13</td>\n",
              "      <td>1.0</td>\n",
              "      <td>boleto</td>\n",
              "      <td>1.0</td>\n",
              "      <td>141.46</td>\n",
              "    </tr>\n",
              "    <tr>\n",
              "      <th>4</th>\n",
              "      <td>47770eb9100c2d0c44946d9cf07ec65d</td>\n",
              "      <td>41ce2a54c0b03bf3443c3d931a367089</td>\n",
              "      <td>delivered</td>\n",
              "      <td>2018-08-08 08:38:49</td>\n",
              "      <td>2018-08-08 08:55:23</td>\n",
              "      <td>2018-08-08 13:50:00</td>\n",
              "      <td>2018-08-17 18:06:29</td>\n",
              "      <td>2018-09-04</td>\n",
              "      <td>1.0</td>\n",
              "      <td>credit_card</td>\n",
              "      <td>3.0</td>\n",
              "      <td>179.12</td>\n",
              "    </tr>\n",
              "  </tbody>\n",
              "</table>\n",
              "</div>"
            ],
            "text/plain": [
              "                           order_id                       customer_id  \\\n",
              "0  e481f51cbdc54678b7cc49136f2d6af7  9ef432eb6251297304e76186b10a928d   \n",
              "1  e481f51cbdc54678b7cc49136f2d6af7  9ef432eb6251297304e76186b10a928d   \n",
              "2  e481f51cbdc54678b7cc49136f2d6af7  9ef432eb6251297304e76186b10a928d   \n",
              "3  53cdb2fc8bc7dce0b6741e2150273451  b0830fb4747a6c6d20dea0b8c802d7ef   \n",
              "4  47770eb9100c2d0c44946d9cf07ec65d  41ce2a54c0b03bf3443c3d931a367089   \n",
              "\n",
              "  order_status order_purchase_timestamp   order_approved_at  \\\n",
              "0    delivered      2017-10-02 10:56:33 2017-10-02 11:07:15   \n",
              "1    delivered      2017-10-02 10:56:33 2017-10-02 11:07:15   \n",
              "2    delivered      2017-10-02 10:56:33 2017-10-02 11:07:15   \n",
              "3    delivered      2018-07-24 20:41:37 2018-07-26 03:24:27   \n",
              "4    delivered      2018-08-08 08:38:49 2018-08-08 08:55:23   \n",
              "\n",
              "  order_delivered_carrier_date order_delivered_customer_date  \\\n",
              "0          2017-10-04 19:55:00           2017-10-10 21:25:13   \n",
              "1          2017-10-04 19:55:00           2017-10-10 21:25:13   \n",
              "2          2017-10-04 19:55:00           2017-10-10 21:25:13   \n",
              "3          2018-07-26 14:31:00           2018-08-07 15:27:45   \n",
              "4          2018-08-08 13:50:00           2018-08-17 18:06:29   \n",
              "\n",
              "  order_estimated_delivery_date  payment_sequential payment_type  \\\n",
              "0                    2017-10-18                 1.0  credit_card   \n",
              "1                    2017-10-18                 3.0      voucher   \n",
              "2                    2017-10-18                 2.0      voucher   \n",
              "3                    2018-08-13                 1.0       boleto   \n",
              "4                    2018-09-04                 1.0  credit_card   \n",
              "\n",
              "   payment_installments  payment_value  \n",
              "0                   1.0          18.12  \n",
              "1                   1.0           2.00  \n",
              "2                   1.0          18.59  \n",
              "3                   1.0         141.46  \n",
              "4                   3.0         179.12  "
            ]
          },
          "execution_count": 34,
          "metadata": {},
          "output_type": "execute_result"
        }
      ],
      "source": [
        "order_with_payments_df = pd.merge(\n",
        "    left=orders_df,\n",
        "    right=order_payments_df,\n",
        "    how=\"left\",\n",
        "    left_on=\"order_id\",\n",
        "    right_on=\"order_id\"\n",
        ")\n",
        "order_with_payments_df.head()"
      ]
    },
    {
      "cell_type": "markdown",
      "metadata": {
        "id": "bLwGAiPNhLFb"
      },
      "source": [
        "Tabel order_full_df"
      ]
    },
    {
      "cell_type": "code",
      "execution_count": 35,
      "metadata": {
        "colab": {
          "base_uri": "https://localhost:8080/",
          "height": 278
        },
        "id": "iaxODozF30gL",
        "outputId": "9229997f-544b-4feb-fa27-5e102a04a165"
      },
      "outputs": [
        {
          "data": {
            "text/html": [
              "<div>\n",
              "<style scoped>\n",
              "    .dataframe tbody tr th:only-of-type {\n",
              "        vertical-align: middle;\n",
              "    }\n",
              "\n",
              "    .dataframe tbody tr th {\n",
              "        vertical-align: top;\n",
              "    }\n",
              "\n",
              "    .dataframe thead th {\n",
              "        text-align: right;\n",
              "    }\n",
              "</style>\n",
              "<table border=\"1\" class=\"dataframe\">\n",
              "  <thead>\n",
              "    <tr style=\"text-align: right;\">\n",
              "      <th></th>\n",
              "      <th>order_id</th>\n",
              "      <th>customer_id</th>\n",
              "      <th>order_status</th>\n",
              "      <th>order_purchase_timestamp</th>\n",
              "      <th>order_approved_at</th>\n",
              "      <th>order_delivered_carrier_date</th>\n",
              "      <th>order_delivered_customer_date</th>\n",
              "      <th>order_estimated_delivery_date</th>\n",
              "      <th>payment_sequential</th>\n",
              "      <th>payment_type</th>\n",
              "      <th>payment_installments</th>\n",
              "      <th>payment_value</th>\n",
              "      <th>review_id</th>\n",
              "      <th>review_score</th>\n",
              "      <th>review_comment_title</th>\n",
              "      <th>review_comment_message</th>\n",
              "      <th>review_creation_date</th>\n",
              "      <th>review_answer_timestamp</th>\n",
              "    </tr>\n",
              "  </thead>\n",
              "  <tbody>\n",
              "    <tr>\n",
              "      <th>0</th>\n",
              "      <td>e481f51cbdc54678b7cc49136f2d6af7</td>\n",
              "      <td>9ef432eb6251297304e76186b10a928d</td>\n",
              "      <td>delivered</td>\n",
              "      <td>2017-10-02 10:56:33</td>\n",
              "      <td>2017-10-02 11:07:15</td>\n",
              "      <td>2017-10-04 19:55:00</td>\n",
              "      <td>2017-10-10 21:25:13</td>\n",
              "      <td>2017-10-18</td>\n",
              "      <td>1.0</td>\n",
              "      <td>credit_card</td>\n",
              "      <td>1.0</td>\n",
              "      <td>18.12</td>\n",
              "      <td>a54f0611adc9ed256b57ede6b6eb5114</td>\n",
              "      <td>4.0</td>\n",
              "      <td>Tidak ada komentar.</td>\n",
              "      <td>Não testei o produto ainda, mas ele veio corre...</td>\n",
              "      <td>2017-10-11</td>\n",
              "      <td>2017-10-12 03:43:48</td>\n",
              "    </tr>\n",
              "    <tr>\n",
              "      <th>1</th>\n",
              "      <td>e481f51cbdc54678b7cc49136f2d6af7</td>\n",
              "      <td>9ef432eb6251297304e76186b10a928d</td>\n",
              "      <td>delivered</td>\n",
              "      <td>2017-10-02 10:56:33</td>\n",
              "      <td>2017-10-02 11:07:15</td>\n",
              "      <td>2017-10-04 19:55:00</td>\n",
              "      <td>2017-10-10 21:25:13</td>\n",
              "      <td>2017-10-18</td>\n",
              "      <td>3.0</td>\n",
              "      <td>voucher</td>\n",
              "      <td>1.0</td>\n",
              "      <td>2.00</td>\n",
              "      <td>a54f0611adc9ed256b57ede6b6eb5114</td>\n",
              "      <td>4.0</td>\n",
              "      <td>Tidak ada komentar.</td>\n",
              "      <td>Não testei o produto ainda, mas ele veio corre...</td>\n",
              "      <td>2017-10-11</td>\n",
              "      <td>2017-10-12 03:43:48</td>\n",
              "    </tr>\n",
              "    <tr>\n",
              "      <th>2</th>\n",
              "      <td>e481f51cbdc54678b7cc49136f2d6af7</td>\n",
              "      <td>9ef432eb6251297304e76186b10a928d</td>\n",
              "      <td>delivered</td>\n",
              "      <td>2017-10-02 10:56:33</td>\n",
              "      <td>2017-10-02 11:07:15</td>\n",
              "      <td>2017-10-04 19:55:00</td>\n",
              "      <td>2017-10-10 21:25:13</td>\n",
              "      <td>2017-10-18</td>\n",
              "      <td>2.0</td>\n",
              "      <td>voucher</td>\n",
              "      <td>1.0</td>\n",
              "      <td>18.59</td>\n",
              "      <td>a54f0611adc9ed256b57ede6b6eb5114</td>\n",
              "      <td>4.0</td>\n",
              "      <td>Tidak ada komentar.</td>\n",
              "      <td>Não testei o produto ainda, mas ele veio corre...</td>\n",
              "      <td>2017-10-11</td>\n",
              "      <td>2017-10-12 03:43:48</td>\n",
              "    </tr>\n",
              "    <tr>\n",
              "      <th>3</th>\n",
              "      <td>53cdb2fc8bc7dce0b6741e2150273451</td>\n",
              "      <td>b0830fb4747a6c6d20dea0b8c802d7ef</td>\n",
              "      <td>delivered</td>\n",
              "      <td>2018-07-24 20:41:37</td>\n",
              "      <td>2018-07-26 03:24:27</td>\n",
              "      <td>2018-07-26 14:31:00</td>\n",
              "      <td>2018-08-07 15:27:45</td>\n",
              "      <td>2018-08-13</td>\n",
              "      <td>1.0</td>\n",
              "      <td>boleto</td>\n",
              "      <td>1.0</td>\n",
              "      <td>141.46</td>\n",
              "      <td>8d5266042046a06655c8db133d120ba5</td>\n",
              "      <td>4.0</td>\n",
              "      <td>Muito boa a loja</td>\n",
              "      <td>Muito bom o produto.</td>\n",
              "      <td>2018-08-08</td>\n",
              "      <td>2018-08-08 18:37:50</td>\n",
              "    </tr>\n",
              "    <tr>\n",
              "      <th>4</th>\n",
              "      <td>47770eb9100c2d0c44946d9cf07ec65d</td>\n",
              "      <td>41ce2a54c0b03bf3443c3d931a367089</td>\n",
              "      <td>delivered</td>\n",
              "      <td>2018-08-08 08:38:49</td>\n",
              "      <td>2018-08-08 08:55:23</td>\n",
              "      <td>2018-08-08 13:50:00</td>\n",
              "      <td>2018-08-17 18:06:29</td>\n",
              "      <td>2018-09-04</td>\n",
              "      <td>1.0</td>\n",
              "      <td>credit_card</td>\n",
              "      <td>3.0</td>\n",
              "      <td>179.12</td>\n",
              "      <td>e73b67b67587f7644d5bd1a52deb1b01</td>\n",
              "      <td>5.0</td>\n",
              "      <td>Tidak ada komentar.</td>\n",
              "      <td>Tidak ada komentar.</td>\n",
              "      <td>2018-08-18</td>\n",
              "      <td>2018-08-22 19:07:58</td>\n",
              "    </tr>\n",
              "  </tbody>\n",
              "</table>\n",
              "</div>"
            ],
            "text/plain": [
              "                           order_id                       customer_id  \\\n",
              "0  e481f51cbdc54678b7cc49136f2d6af7  9ef432eb6251297304e76186b10a928d   \n",
              "1  e481f51cbdc54678b7cc49136f2d6af7  9ef432eb6251297304e76186b10a928d   \n",
              "2  e481f51cbdc54678b7cc49136f2d6af7  9ef432eb6251297304e76186b10a928d   \n",
              "3  53cdb2fc8bc7dce0b6741e2150273451  b0830fb4747a6c6d20dea0b8c802d7ef   \n",
              "4  47770eb9100c2d0c44946d9cf07ec65d  41ce2a54c0b03bf3443c3d931a367089   \n",
              "\n",
              "  order_status order_purchase_timestamp   order_approved_at  \\\n",
              "0    delivered      2017-10-02 10:56:33 2017-10-02 11:07:15   \n",
              "1    delivered      2017-10-02 10:56:33 2017-10-02 11:07:15   \n",
              "2    delivered      2017-10-02 10:56:33 2017-10-02 11:07:15   \n",
              "3    delivered      2018-07-24 20:41:37 2018-07-26 03:24:27   \n",
              "4    delivered      2018-08-08 08:38:49 2018-08-08 08:55:23   \n",
              "\n",
              "  order_delivered_carrier_date order_delivered_customer_date  \\\n",
              "0          2017-10-04 19:55:00           2017-10-10 21:25:13   \n",
              "1          2017-10-04 19:55:00           2017-10-10 21:25:13   \n",
              "2          2017-10-04 19:55:00           2017-10-10 21:25:13   \n",
              "3          2018-07-26 14:31:00           2018-08-07 15:27:45   \n",
              "4          2018-08-08 13:50:00           2018-08-17 18:06:29   \n",
              "\n",
              "  order_estimated_delivery_date  payment_sequential payment_type  \\\n",
              "0                    2017-10-18                 1.0  credit_card   \n",
              "1                    2017-10-18                 3.0      voucher   \n",
              "2                    2017-10-18                 2.0      voucher   \n",
              "3                    2018-08-13                 1.0       boleto   \n",
              "4                    2018-09-04                 1.0  credit_card   \n",
              "\n",
              "   payment_installments  payment_value                         review_id  \\\n",
              "0                   1.0          18.12  a54f0611adc9ed256b57ede6b6eb5114   \n",
              "1                   1.0           2.00  a54f0611adc9ed256b57ede6b6eb5114   \n",
              "2                   1.0          18.59  a54f0611adc9ed256b57ede6b6eb5114   \n",
              "3                   1.0         141.46  8d5266042046a06655c8db133d120ba5   \n",
              "4                   3.0         179.12  e73b67b67587f7644d5bd1a52deb1b01   \n",
              "\n",
              "   review_score review_comment_title  \\\n",
              "0           4.0  Tidak ada komentar.   \n",
              "1           4.0  Tidak ada komentar.   \n",
              "2           4.0  Tidak ada komentar.   \n",
              "3           4.0     Muito boa a loja   \n",
              "4           5.0  Tidak ada komentar.   \n",
              "\n",
              "                              review_comment_message review_creation_date  \\\n",
              "0  Não testei o produto ainda, mas ele veio corre...           2017-10-11   \n",
              "1  Não testei o produto ainda, mas ele veio corre...           2017-10-11   \n",
              "2  Não testei o produto ainda, mas ele veio corre...           2017-10-11   \n",
              "3                               Muito bom o produto.           2018-08-08   \n",
              "4                                Tidak ada komentar.           2018-08-18   \n",
              "\n",
              "  review_answer_timestamp  \n",
              "0     2017-10-12 03:43:48  \n",
              "1     2017-10-12 03:43:48  \n",
              "2     2017-10-12 03:43:48  \n",
              "3     2018-08-08 18:37:50  \n",
              "4     2018-08-22 19:07:58  "
            ]
          },
          "execution_count": 35,
          "metadata": {},
          "output_type": "execute_result"
        }
      ],
      "source": [
        "order_full_df = pd.merge(\n",
        "    left=order_with_payments_df,\n",
        "    right=reviews_df,\n",
        "    how=\"left\",\n",
        "    left_on=\"order_id\",\n",
        "    right_on=\"order_id\"\n",
        ")\n",
        "order_full_df.head()"
      ]
    },
    {
      "cell_type": "markdown",
      "metadata": {
        "id": "43PDFubK5zxv"
      },
      "source": [
        "Tabel all_df"
      ]
    },
    {
      "cell_type": "code",
      "execution_count": 36,
      "metadata": {
        "colab": {
          "base_uri": "https://localhost:8080/",
          "height": 307
        },
        "id": "OnqDtf5o52ud",
        "outputId": "9170ce9e-264c-474a-8f89-2f004622a6f2"
      },
      "outputs": [
        {
          "data": {
            "text/html": [
              "<div>\n",
              "<style scoped>\n",
              "    .dataframe tbody tr th:only-of-type {\n",
              "        vertical-align: middle;\n",
              "    }\n",
              "\n",
              "    .dataframe tbody tr th {\n",
              "        vertical-align: top;\n",
              "    }\n",
              "\n",
              "    .dataframe thead th {\n",
              "        text-align: right;\n",
              "    }\n",
              "</style>\n",
              "<table border=\"1\" class=\"dataframe\">\n",
              "  <thead>\n",
              "    <tr style=\"text-align: right;\">\n",
              "      <th></th>\n",
              "      <th>order_id</th>\n",
              "      <th>customer_id</th>\n",
              "      <th>order_status</th>\n",
              "      <th>order_purchase_timestamp</th>\n",
              "      <th>order_approved_at</th>\n",
              "      <th>order_delivered_carrier_date</th>\n",
              "      <th>order_delivered_customer_date</th>\n",
              "      <th>order_estimated_delivery_date</th>\n",
              "      <th>payment_sequential</th>\n",
              "      <th>payment_type</th>\n",
              "      <th>...</th>\n",
              "      <th>review_id</th>\n",
              "      <th>review_score</th>\n",
              "      <th>review_comment_title</th>\n",
              "      <th>review_comment_message</th>\n",
              "      <th>review_creation_date</th>\n",
              "      <th>review_answer_timestamp</th>\n",
              "      <th>customer_unique_id</th>\n",
              "      <th>customer_zip_code_prefix</th>\n",
              "      <th>customer_city</th>\n",
              "      <th>customer_state</th>\n",
              "    </tr>\n",
              "  </thead>\n",
              "  <tbody>\n",
              "    <tr>\n",
              "      <th>0</th>\n",
              "      <td>e481f51cbdc54678b7cc49136f2d6af7</td>\n",
              "      <td>9ef432eb6251297304e76186b10a928d</td>\n",
              "      <td>delivered</td>\n",
              "      <td>2017-10-02 10:56:33</td>\n",
              "      <td>2017-10-02 11:07:15</td>\n",
              "      <td>2017-10-04 19:55:00</td>\n",
              "      <td>2017-10-10 21:25:13</td>\n",
              "      <td>2017-10-18</td>\n",
              "      <td>1.0</td>\n",
              "      <td>credit_card</td>\n",
              "      <td>...</td>\n",
              "      <td>a54f0611adc9ed256b57ede6b6eb5114</td>\n",
              "      <td>4.0</td>\n",
              "      <td>Tidak ada komentar.</td>\n",
              "      <td>Não testei o produto ainda, mas ele veio corre...</td>\n",
              "      <td>2017-10-11</td>\n",
              "      <td>2017-10-12 03:43:48</td>\n",
              "      <td>7c396fd4830fd04220f754e42b4e5bff</td>\n",
              "      <td>3149</td>\n",
              "      <td>sao paulo</td>\n",
              "      <td>SP</td>\n",
              "    </tr>\n",
              "    <tr>\n",
              "      <th>1</th>\n",
              "      <td>e481f51cbdc54678b7cc49136f2d6af7</td>\n",
              "      <td>9ef432eb6251297304e76186b10a928d</td>\n",
              "      <td>delivered</td>\n",
              "      <td>2017-10-02 10:56:33</td>\n",
              "      <td>2017-10-02 11:07:15</td>\n",
              "      <td>2017-10-04 19:55:00</td>\n",
              "      <td>2017-10-10 21:25:13</td>\n",
              "      <td>2017-10-18</td>\n",
              "      <td>3.0</td>\n",
              "      <td>voucher</td>\n",
              "      <td>...</td>\n",
              "      <td>a54f0611adc9ed256b57ede6b6eb5114</td>\n",
              "      <td>4.0</td>\n",
              "      <td>Tidak ada komentar.</td>\n",
              "      <td>Não testei o produto ainda, mas ele veio corre...</td>\n",
              "      <td>2017-10-11</td>\n",
              "      <td>2017-10-12 03:43:48</td>\n",
              "      <td>7c396fd4830fd04220f754e42b4e5bff</td>\n",
              "      <td>3149</td>\n",
              "      <td>sao paulo</td>\n",
              "      <td>SP</td>\n",
              "    </tr>\n",
              "    <tr>\n",
              "      <th>2</th>\n",
              "      <td>e481f51cbdc54678b7cc49136f2d6af7</td>\n",
              "      <td>9ef432eb6251297304e76186b10a928d</td>\n",
              "      <td>delivered</td>\n",
              "      <td>2017-10-02 10:56:33</td>\n",
              "      <td>2017-10-02 11:07:15</td>\n",
              "      <td>2017-10-04 19:55:00</td>\n",
              "      <td>2017-10-10 21:25:13</td>\n",
              "      <td>2017-10-18</td>\n",
              "      <td>2.0</td>\n",
              "      <td>voucher</td>\n",
              "      <td>...</td>\n",
              "      <td>a54f0611adc9ed256b57ede6b6eb5114</td>\n",
              "      <td>4.0</td>\n",
              "      <td>Tidak ada komentar.</td>\n",
              "      <td>Não testei o produto ainda, mas ele veio corre...</td>\n",
              "      <td>2017-10-11</td>\n",
              "      <td>2017-10-12 03:43:48</td>\n",
              "      <td>7c396fd4830fd04220f754e42b4e5bff</td>\n",
              "      <td>3149</td>\n",
              "      <td>sao paulo</td>\n",
              "      <td>SP</td>\n",
              "    </tr>\n",
              "    <tr>\n",
              "      <th>3</th>\n",
              "      <td>53cdb2fc8bc7dce0b6741e2150273451</td>\n",
              "      <td>b0830fb4747a6c6d20dea0b8c802d7ef</td>\n",
              "      <td>delivered</td>\n",
              "      <td>2018-07-24 20:41:37</td>\n",
              "      <td>2018-07-26 03:24:27</td>\n",
              "      <td>2018-07-26 14:31:00</td>\n",
              "      <td>2018-08-07 15:27:45</td>\n",
              "      <td>2018-08-13</td>\n",
              "      <td>1.0</td>\n",
              "      <td>boleto</td>\n",
              "      <td>...</td>\n",
              "      <td>8d5266042046a06655c8db133d120ba5</td>\n",
              "      <td>4.0</td>\n",
              "      <td>Muito boa a loja</td>\n",
              "      <td>Muito bom o produto.</td>\n",
              "      <td>2018-08-08</td>\n",
              "      <td>2018-08-08 18:37:50</td>\n",
              "      <td>af07308b275d755c9edb36a90c618231</td>\n",
              "      <td>47813</td>\n",
              "      <td>barreiras</td>\n",
              "      <td>BA</td>\n",
              "    </tr>\n",
              "    <tr>\n",
              "      <th>4</th>\n",
              "      <td>47770eb9100c2d0c44946d9cf07ec65d</td>\n",
              "      <td>41ce2a54c0b03bf3443c3d931a367089</td>\n",
              "      <td>delivered</td>\n",
              "      <td>2018-08-08 08:38:49</td>\n",
              "      <td>2018-08-08 08:55:23</td>\n",
              "      <td>2018-08-08 13:50:00</td>\n",
              "      <td>2018-08-17 18:06:29</td>\n",
              "      <td>2018-09-04</td>\n",
              "      <td>1.0</td>\n",
              "      <td>credit_card</td>\n",
              "      <td>...</td>\n",
              "      <td>e73b67b67587f7644d5bd1a52deb1b01</td>\n",
              "      <td>5.0</td>\n",
              "      <td>Tidak ada komentar.</td>\n",
              "      <td>Tidak ada komentar.</td>\n",
              "      <td>2018-08-18</td>\n",
              "      <td>2018-08-22 19:07:58</td>\n",
              "      <td>3a653a41f6f9fc3d2a113cf8398680e8</td>\n",
              "      <td>75265</td>\n",
              "      <td>vianopolis</td>\n",
              "      <td>GO</td>\n",
              "    </tr>\n",
              "  </tbody>\n",
              "</table>\n",
              "<p>5 rows × 22 columns</p>\n",
              "</div>"
            ],
            "text/plain": [
              "                           order_id                       customer_id  \\\n",
              "0  e481f51cbdc54678b7cc49136f2d6af7  9ef432eb6251297304e76186b10a928d   \n",
              "1  e481f51cbdc54678b7cc49136f2d6af7  9ef432eb6251297304e76186b10a928d   \n",
              "2  e481f51cbdc54678b7cc49136f2d6af7  9ef432eb6251297304e76186b10a928d   \n",
              "3  53cdb2fc8bc7dce0b6741e2150273451  b0830fb4747a6c6d20dea0b8c802d7ef   \n",
              "4  47770eb9100c2d0c44946d9cf07ec65d  41ce2a54c0b03bf3443c3d931a367089   \n",
              "\n",
              "  order_status order_purchase_timestamp   order_approved_at  \\\n",
              "0    delivered      2017-10-02 10:56:33 2017-10-02 11:07:15   \n",
              "1    delivered      2017-10-02 10:56:33 2017-10-02 11:07:15   \n",
              "2    delivered      2017-10-02 10:56:33 2017-10-02 11:07:15   \n",
              "3    delivered      2018-07-24 20:41:37 2018-07-26 03:24:27   \n",
              "4    delivered      2018-08-08 08:38:49 2018-08-08 08:55:23   \n",
              "\n",
              "  order_delivered_carrier_date order_delivered_customer_date  \\\n",
              "0          2017-10-04 19:55:00           2017-10-10 21:25:13   \n",
              "1          2017-10-04 19:55:00           2017-10-10 21:25:13   \n",
              "2          2017-10-04 19:55:00           2017-10-10 21:25:13   \n",
              "3          2018-07-26 14:31:00           2018-08-07 15:27:45   \n",
              "4          2018-08-08 13:50:00           2018-08-17 18:06:29   \n",
              "\n",
              "  order_estimated_delivery_date  payment_sequential payment_type  ...  \\\n",
              "0                    2017-10-18                 1.0  credit_card  ...   \n",
              "1                    2017-10-18                 3.0      voucher  ...   \n",
              "2                    2017-10-18                 2.0      voucher  ...   \n",
              "3                    2018-08-13                 1.0       boleto  ...   \n",
              "4                    2018-09-04                 1.0  credit_card  ...   \n",
              "\n",
              "                          review_id  review_score review_comment_title  \\\n",
              "0  a54f0611adc9ed256b57ede6b6eb5114           4.0  Tidak ada komentar.   \n",
              "1  a54f0611adc9ed256b57ede6b6eb5114           4.0  Tidak ada komentar.   \n",
              "2  a54f0611adc9ed256b57ede6b6eb5114           4.0  Tidak ada komentar.   \n",
              "3  8d5266042046a06655c8db133d120ba5           4.0     Muito boa a loja   \n",
              "4  e73b67b67587f7644d5bd1a52deb1b01           5.0  Tidak ada komentar.   \n",
              "\n",
              "                              review_comment_message review_creation_date  \\\n",
              "0  Não testei o produto ainda, mas ele veio corre...           2017-10-11   \n",
              "1  Não testei o produto ainda, mas ele veio corre...           2017-10-11   \n",
              "2  Não testei o produto ainda, mas ele veio corre...           2017-10-11   \n",
              "3                               Muito bom o produto.           2018-08-08   \n",
              "4                                Tidak ada komentar.           2018-08-18   \n",
              "\n",
              "  review_answer_timestamp                customer_unique_id  \\\n",
              "0     2017-10-12 03:43:48  7c396fd4830fd04220f754e42b4e5bff   \n",
              "1     2017-10-12 03:43:48  7c396fd4830fd04220f754e42b4e5bff   \n",
              "2     2017-10-12 03:43:48  7c396fd4830fd04220f754e42b4e5bff   \n",
              "3     2018-08-08 18:37:50  af07308b275d755c9edb36a90c618231   \n",
              "4     2018-08-22 19:07:58  3a653a41f6f9fc3d2a113cf8398680e8   \n",
              "\n",
              "  customer_zip_code_prefix customer_city  customer_state  \n",
              "0                     3149     sao paulo              SP  \n",
              "1                     3149     sao paulo              SP  \n",
              "2                     3149     sao paulo              SP  \n",
              "3                    47813     barreiras              BA  \n",
              "4                    75265    vianopolis              GO  \n",
              "\n",
              "[5 rows x 22 columns]"
            ]
          },
          "execution_count": 36,
          "metadata": {},
          "output_type": "execute_result"
        }
      ],
      "source": [
        "all_df = pd.merge(\n",
        "    left=order_full_df,\n",
        "    right=customers_df,\n",
        "    how=\"left\",\n",
        "    left_on=\"customer_id\",\n",
        "    right_on=\"customer_id\"\n",
        ")\n",
        "all_df.head()"
      ]
    },
    {
      "cell_type": "markdown",
      "metadata": {
        "id": "zsyZjqak8DC2"
      },
      "source": [
        "## Visualization & Explanatory Analysis"
      ]
    },
    {
      "cell_type": "markdown",
      "metadata": {
        "id": "HZxOiQ6n8DC2"
      },
      "source": [
        "### Pertanyaan 1: Bagaimana penghasilan penjualan pada tiap bulannya?"
      ]
    },
    {
      "cell_type": "code",
      "execution_count": 51,
      "metadata": {
        "colab": {
          "base_uri": "https://localhost:8080/",
          "height": 864
        },
        "id": "1swJUdAD8DC2",
        "outputId": "aefef09e-4c63-4b86-b81a-91708c6f9be6"
      },
      "outputs": [
        {
          "data": {
            "text/html": [
              "<div>\n",
              "<style scoped>\n",
              "    .dataframe tbody tr th:only-of-type {\n",
              "        vertical-align: middle;\n",
              "    }\n",
              "\n",
              "    .dataframe tbody tr th {\n",
              "        vertical-align: top;\n",
              "    }\n",
              "\n",
              "    .dataframe thead th {\n",
              "        text-align: right;\n",
              "    }\n",
              "</style>\n",
              "<table border=\"1\" class=\"dataframe\">\n",
              "  <thead>\n",
              "    <tr style=\"text-align: right;\">\n",
              "      <th></th>\n",
              "      <th>order_date</th>\n",
              "      <th>order_count</th>\n",
              "      <th>revenue</th>\n",
              "    </tr>\n",
              "  </thead>\n",
              "  <tbody>\n",
              "    <tr>\n",
              "      <th>0</th>\n",
              "      <td>Sep-2016</td>\n",
              "      <td>4</td>\n",
              "      <td>252.24</td>\n",
              "    </tr>\n",
              "    <tr>\n",
              "      <th>1</th>\n",
              "      <td>Oct-2016</td>\n",
              "      <td>324</td>\n",
              "      <td>59271.30</td>\n",
              "    </tr>\n",
              "    <tr>\n",
              "      <th>2</th>\n",
              "      <td>Nov-2016</td>\n",
              "      <td>0</td>\n",
              "      <td>0.00</td>\n",
              "    </tr>\n",
              "    <tr>\n",
              "      <th>3</th>\n",
              "      <td>Dec-2016</td>\n",
              "      <td>1</td>\n",
              "      <td>19.62</td>\n",
              "    </tr>\n",
              "    <tr>\n",
              "      <th>4</th>\n",
              "      <td>Jan-2017</td>\n",
              "      <td>800</td>\n",
              "      <td>139459.77</td>\n",
              "    </tr>\n",
              "    <tr>\n",
              "      <th>5</th>\n",
              "      <td>Feb-2017</td>\n",
              "      <td>1780</td>\n",
              "      <td>293325.95</td>\n",
              "    </tr>\n",
              "    <tr>\n",
              "      <th>6</th>\n",
              "      <td>Mar-2017</td>\n",
              "      <td>2682</td>\n",
              "      <td>451859.95</td>\n",
              "    </tr>\n",
              "    <tr>\n",
              "      <th>7</th>\n",
              "      <td>Apr-2017</td>\n",
              "      <td>2404</td>\n",
              "      <td>418753.06</td>\n",
              "    </tr>\n",
              "    <tr>\n",
              "      <th>8</th>\n",
              "      <td>May-2017</td>\n",
              "      <td>3700</td>\n",
              "      <td>597244.78</td>\n",
              "    </tr>\n",
              "    <tr>\n",
              "      <th>9</th>\n",
              "      <td>Jun-2017</td>\n",
              "      <td>3245</td>\n",
              "      <td>515436.59</td>\n",
              "    </tr>\n",
              "    <tr>\n",
              "      <th>10</th>\n",
              "      <td>Jul-2017</td>\n",
              "      <td>4026</td>\n",
              "      <td>596377.93</td>\n",
              "    </tr>\n",
              "    <tr>\n",
              "      <th>11</th>\n",
              "      <td>Aug-2017</td>\n",
              "      <td>4331</td>\n",
              "      <td>680105.55</td>\n",
              "    </tr>\n",
              "    <tr>\n",
              "      <th>12</th>\n",
              "      <td>Sep-2017</td>\n",
              "      <td>4285</td>\n",
              "      <td>730663.50</td>\n",
              "    </tr>\n",
              "    <tr>\n",
              "      <th>13</th>\n",
              "      <td>Oct-2017</td>\n",
              "      <td>4631</td>\n",
              "      <td>784388.93</td>\n",
              "    </tr>\n",
              "    <tr>\n",
              "      <th>14</th>\n",
              "      <td>Nov-2017</td>\n",
              "      <td>7544</td>\n",
              "      <td>1203518.98</td>\n",
              "    </tr>\n",
              "    <tr>\n",
              "      <th>15</th>\n",
              "      <td>Dec-2017</td>\n",
              "      <td>5673</td>\n",
              "      <td>881692.79</td>\n",
              "    </tr>\n",
              "    <tr>\n",
              "      <th>16</th>\n",
              "      <td>Jan-2018</td>\n",
              "      <td>7269</td>\n",
              "      <td>1121631.30</td>\n",
              "    </tr>\n",
              "    <tr>\n",
              "      <th>17</th>\n",
              "      <td>Feb-2018</td>\n",
              "      <td>6728</td>\n",
              "      <td>1003785.44</td>\n",
              "    </tr>\n",
              "    <tr>\n",
              "      <th>18</th>\n",
              "      <td>Mar-2018</td>\n",
              "      <td>7211</td>\n",
              "      <td>1164189.28</td>\n",
              "    </tr>\n",
              "    <tr>\n",
              "      <th>19</th>\n",
              "      <td>Apr-2018</td>\n",
              "      <td>6939</td>\n",
              "      <td>1163314.66</td>\n",
              "    </tr>\n",
              "    <tr>\n",
              "      <th>20</th>\n",
              "      <td>May-2018</td>\n",
              "      <td>6873</td>\n",
              "      <td>1154674.66</td>\n",
              "    </tr>\n",
              "    <tr>\n",
              "      <th>21</th>\n",
              "      <td>Jun-2018</td>\n",
              "      <td>6167</td>\n",
              "      <td>1024877.86</td>\n",
              "    </tr>\n",
              "    <tr>\n",
              "      <th>22</th>\n",
              "      <td>Jul-2018</td>\n",
              "      <td>6292</td>\n",
              "      <td>1069017.37</td>\n",
              "    </tr>\n",
              "    <tr>\n",
              "      <th>23</th>\n",
              "      <td>Aug-2018</td>\n",
              "      <td>6512</td>\n",
              "      <td>1022530.02</td>\n",
              "    </tr>\n",
              "    <tr>\n",
              "      <th>24</th>\n",
              "      <td>Sep-2018</td>\n",
              "      <td>16</td>\n",
              "      <td>4439.54</td>\n",
              "    </tr>\n",
              "    <tr>\n",
              "      <th>25</th>\n",
              "      <td>Oct-2018</td>\n",
              "      <td>4</td>\n",
              "      <td>589.67</td>\n",
              "    </tr>\n",
              "  </tbody>\n",
              "</table>\n",
              "</div>"
            ],
            "text/plain": [
              "   order_date  order_count     revenue\n",
              "0    Sep-2016            4      252.24\n",
              "1    Oct-2016          324    59271.30\n",
              "2    Nov-2016            0        0.00\n",
              "3    Dec-2016            1       19.62\n",
              "4    Jan-2017          800   139459.77\n",
              "5    Feb-2017         1780   293325.95\n",
              "6    Mar-2017         2682   451859.95\n",
              "7    Apr-2017         2404   418753.06\n",
              "8    May-2017         3700   597244.78\n",
              "9    Jun-2017         3245   515436.59\n",
              "10   Jul-2017         4026   596377.93\n",
              "11   Aug-2017         4331   680105.55\n",
              "12   Sep-2017         4285   730663.50\n",
              "13   Oct-2017         4631   784388.93\n",
              "14   Nov-2017         7544  1203518.98\n",
              "15   Dec-2017         5673   881692.79\n",
              "16   Jan-2018         7269  1121631.30\n",
              "17   Feb-2018         6728  1003785.44\n",
              "18   Mar-2018         7211  1164189.28\n",
              "19   Apr-2018         6939  1163314.66\n",
              "20   May-2018         6873  1154674.66\n",
              "21   Jun-2018         6167  1024877.86\n",
              "22   Jul-2018         6292  1069017.37\n",
              "23   Aug-2018         6512  1022530.02\n",
              "24   Sep-2018           16     4439.54\n",
              "25   Oct-2018            4      589.67"
            ]
          },
          "execution_count": 51,
          "metadata": {},
          "output_type": "execute_result"
        }
      ],
      "source": [
        "monthly_orders_df = all_df.resample(rule='M', on='order_purchase_timestamp').agg({\n",
        "    \"order_id\": \"nunique\",\n",
        "    \"payment_value\": \"sum\"\n",
        "})\n",
        "\n",
        "monthly_orders_df.index = monthly_orders_df.index.strftime('%b-%Y') # Mengubah format menjadi Bulan(3 huruf)-Tahun\n",
        "monthly_orders_df = monthly_orders_df.reset_index()\n",
        "monthly_orders_df.rename(columns={\n",
        "    \"order_purchase_timestamp\": \"order_date\",\n",
        "    \"order_id\": \"order_count\",\n",
        "    \"payment_value\": \"revenue\"\n",
        "}, inplace=True)\n",
        "monthly_orders_df"
      ]
    },
    {
      "cell_type": "code",
      "execution_count": 38,
      "metadata": {
        "colab": {
          "base_uri": "https://localhost:8080/",
          "height": 514
        },
        "id": "MlGrFym1ShdF",
        "outputId": "356438ac-ae9d-4a0c-e8f0-ade64d11e2b1"
      },
      "outputs": [
        {
          "data": {
            "image/png": "[encoded data removed]",
            "text/plain": [
              "<Figure size 1000x500 with 1 Axes>"
            ]
          },
          "metadata": {},
          "output_type": "display_data"
        }
      ],
      "source": [
        "plt.figure(figsize=(10, 5))\n",
        "plt.plot(monthly_orders_df[\"order_date\"], monthly_orders_df[\"revenue\"], marker='o', linewidth=2, color=\"#72BCD4\")\n",
        "plt.title(\"Jumlah Penghasilan per Bulan\", loc=\"center\", fontsize=15)\n",
        "plt.xticks(fontsize=10, rotation = 45)\n",
        "plt.yticks(fontsize=10)\n",
        "plt.show()"
      ]
    },
    {
      "cell_type": "markdown",
      "metadata": {
        "id": "DgHI7CiU8DC2"
      },
      "source": [
        "### Pertanyaan 2: Bagaimana rating penjualan yang diberikan oleh customer?"
      ]
    },
    {
      "cell_type": "code",
      "execution_count": 39,
      "metadata": {
        "colab": {
          "base_uri": "https://localhost:8080/",
          "height": 206
        },
        "id": "Go0lCsvO8DC2",
        "outputId": "e1766393-971d-4423-8346-7f2ba692cc14"
      },
      "outputs": [
        {
          "data": {
            "text/html": [
              "<div>\n",
              "<style scoped>\n",
              "    .dataframe tbody tr th:only-of-type {\n",
              "        vertical-align: middle;\n",
              "    }\n",
              "\n",
              "    .dataframe tbody tr th {\n",
              "        vertical-align: top;\n",
              "    }\n",
              "\n",
              "    .dataframe thead th {\n",
              "        text-align: right;\n",
              "    }\n",
              "</style>\n",
              "<table border=\"1\" class=\"dataframe\">\n",
              "  <thead>\n",
              "    <tr style=\"text-align: right;\">\n",
              "      <th></th>\n",
              "      <th>review_score</th>\n",
              "      <th>count</th>\n",
              "    </tr>\n",
              "  </thead>\n",
              "  <tbody>\n",
              "    <tr>\n",
              "      <th>0</th>\n",
              "      <td>1</td>\n",
              "      <td>11393</td>\n",
              "    </tr>\n",
              "    <tr>\n",
              "      <th>1</th>\n",
              "      <td>2</td>\n",
              "      <td>3148</td>\n",
              "    </tr>\n",
              "    <tr>\n",
              "      <th>2</th>\n",
              "      <td>3</td>\n",
              "      <td>8160</td>\n",
              "    </tr>\n",
              "    <tr>\n",
              "      <th>3</th>\n",
              "      <td>4</td>\n",
              "      <td>19098</td>\n",
              "    </tr>\n",
              "    <tr>\n",
              "      <th>4</th>\n",
              "      <td>5</td>\n",
              "      <td>57076</td>\n",
              "    </tr>\n",
              "  </tbody>\n",
              "</table>\n",
              "</div>"
            ],
            "text/plain": [
              "   review_score  count\n",
              "0             1  11393\n",
              "1             2   3148\n",
              "2             3   8160\n",
              "3             4  19098\n",
              "4             5  57076"
            ]
          },
          "execution_count": 39,
          "metadata": {},
          "output_type": "execute_result"
        }
      ],
      "source": [
        "reviews_recap_df = all_df.groupby(by=\"review_score\").order_id.nunique().reset_index()\n",
        "reviews_recap_df.rename(columns={\n",
        "    \"order_id\": \"count\",\n",
        "}, inplace=True)\n",
        "reviews_recap_df['review_score'] = reviews_recap_df['review_score'].astype(int) # Convert 'review_score' column to integer\n",
        "reviews_recap_df"
      ]
    },
    {
      "cell_type": "code",
      "execution_count": 40,
      "metadata": {
        "colab": {
          "base_uri": "https://localhost:8080/",
          "height": 489
        },
        "id": "JYn2JdwxWYyh",
        "outputId": "9b9f48da-c97e-4277-d111-ef8f7f1c6f77"
      },
      "outputs": [
        {
          "data": {
            "image/png": "[encoded data removed]",
            "text/plain": [
              "<Figure size 1000x500 with 1 Axes>"
            ]
          },
          "metadata": {},
          "output_type": "display_data"
        }
      ],
      "source": [
        "plt.figure(figsize=(10, 5))\n",
        "sns.barplot(\n",
        "    y=\"count\",\n",
        "    x=\"review_score\",\n",
        "    data=reviews_recap_df,\n",
        "    edgecolor='black',\n",
        "    color='lightblue'\n",
        ")\n",
        "plt.title(\"Jumlah Review\", loc=\"center\", fontsize=15)\n",
        "plt.xticks(np.arange(0,5, step=1))\n",
        "plt.xlabel('Review Score')\n",
        "plt.ylabel('Customer Count')\n",
        "plt.xticks(fontsize=10)\n",
        "plt.yticks(fontsize=10)\n",
        "plt.show()"
      ]
    },
    {
      "cell_type": "markdown",
      "metadata": {
        "id": "yZLK3EvpxWoW"
      },
      "source": [
        "### Pertanyaan 3: Bagaimana demografi pelanggan?"
      ]
    },
    {
      "cell_type": "markdown",
      "metadata": {
        "id": "nZxuV1tJFhav"
      },
      "source": [
        "Berdasarkan Kota (City)"
      ]
    },
    {
      "cell_type": "code",
      "execution_count": 41,
      "metadata": {
        "colab": {
          "base_uri": "https://localhost:8080/",
          "height": 206
        },
        "id": "Rgxtwyh8ypXv",
        "outputId": "aaecefb2-7c51-4a7b-db98-b969f0162e66"
      },
      "outputs": [
        {
          "data": {
            "text/html": [
              "<div>\n",
              "<style scoped>\n",
              "    .dataframe tbody tr th:only-of-type {\n",
              "        vertical-align: middle;\n",
              "    }\n",
              "\n",
              "    .dataframe tbody tr th {\n",
              "        vertical-align: top;\n",
              "    }\n",
              "\n",
              "    .dataframe thead th {\n",
              "        text-align: right;\n",
              "    }\n",
              "</style>\n",
              "<table border=\"1\" class=\"dataframe\">\n",
              "  <thead>\n",
              "    <tr style=\"text-align: right;\">\n",
              "      <th></th>\n",
              "      <th>customer_city</th>\n",
              "      <th>count</th>\n",
              "    </tr>\n",
              "  </thead>\n",
              "  <tbody>\n",
              "    <tr>\n",
              "      <th>0</th>\n",
              "      <td>sao paulo</td>\n",
              "      <td>15540</td>\n",
              "    </tr>\n",
              "    <tr>\n",
              "      <th>1</th>\n",
              "      <td>rio de janeiro</td>\n",
              "      <td>6882</td>\n",
              "    </tr>\n",
              "    <tr>\n",
              "      <th>2</th>\n",
              "      <td>belo horizonte</td>\n",
              "      <td>2773</td>\n",
              "    </tr>\n",
              "    <tr>\n",
              "      <th>3</th>\n",
              "      <td>brasilia</td>\n",
              "      <td>2131</td>\n",
              "    </tr>\n",
              "    <tr>\n",
              "      <th>4</th>\n",
              "      <td>curitiba</td>\n",
              "      <td>1521</td>\n",
              "    </tr>\n",
              "  </tbody>\n",
              "</table>\n",
              "</div>"
            ],
            "text/plain": [
              "    customer_city  count\n",
              "0       sao paulo  15540\n",
              "1  rio de janeiro   6882\n",
              "2  belo horizonte   2773\n",
              "3        brasilia   2131\n",
              "4        curitiba   1521"
            ]
          },
          "execution_count": 41,
          "metadata": {},
          "output_type": "execute_result"
        }
      ],
      "source": [
        "customer_by_city_df = customers_df.groupby(by=\"customer_city\").customer_id.nunique().sort_values(ascending=False).reset_index()\n",
        "customer_by_city_df.rename(columns={\n",
        "    \"customer_id\": \"count\",\n",
        "}, inplace=True)\n",
        "customer_by_city_df.head()"
      ]
    },
    {
      "cell_type": "code",
      "execution_count": 42,
      "metadata": {
        "colab": {
          "base_uri": "https://localhost:8080/",
          "height": 689
        },
        "id": "BF4RmZITGY-T",
        "outputId": "02705bf5-a0c6-4653-bfd3-8ec34e5c998b"
      },
      "outputs": [
        {
          "data": {
            "image/png": "[encoded data removed]",
            "text/plain": [
              "<Figure size 1000x500 with 1 Axes>"
            ]
          },
          "metadata": {},
          "output_type": "display_data"
        }
      ],
      "source": [
        "plt.figure(figsize=(10, 5))\n",
        "colors = ['lightblue'] + ['lightgrey'] * 9\n",
        "sns.barplot(\n",
        "    y=\"count\",\n",
        "    x=\"customer_city\",\n",
        "    data=customer_by_city_df.head(10),\n",
        "    edgecolor='black',\n",
        "    palette=colors\n",
        ")\n",
        "plt.title(\"Jumlah Customer Berdasarkan Kota (City)\", loc=\"center\", fontsize=15)\n",
        "plt.xlabel('City')\n",
        "plt.ylabel('Customer Count')\n",
        "plt.xticks(fontsize=10, rotation = 45)\n",
        "plt.yticks(fontsize=10)\n",
        "plt.show()"
      ]
    },
    {
      "cell_type": "markdown",
      "metadata": {
        "id": "vZr_pZgNFkrN"
      },
      "source": [
        "Berdasarkan Negara Bagian (State)"
      ]
    },
    {
      "cell_type": "code",
      "execution_count": 43,
      "metadata": {
        "colab": {
          "base_uri": "https://localhost:8080/",
          "height": 363
        },
        "id": "zaVUAajTFYph",
        "outputId": "7f40fd2f-3a0e-4562-fda1-b1fc22f57660"
      },
      "outputs": [
        {
          "data": {
            "text/html": [
              "<div>\n",
              "<style scoped>\n",
              "    .dataframe tbody tr th:only-of-type {\n",
              "        vertical-align: middle;\n",
              "    }\n",
              "\n",
              "    .dataframe tbody tr th {\n",
              "        vertical-align: top;\n",
              "    }\n",
              "\n",
              "    .dataframe thead th {\n",
              "        text-align: right;\n",
              "    }\n",
              "</style>\n",
              "<table border=\"1\" class=\"dataframe\">\n",
              "  <thead>\n",
              "    <tr style=\"text-align: right;\">\n",
              "      <th></th>\n",
              "      <th>customer_state</th>\n",
              "      <th>count</th>\n",
              "    </tr>\n",
              "  </thead>\n",
              "  <tbody>\n",
              "    <tr>\n",
              "      <th>0</th>\n",
              "      <td>SP</td>\n",
              "      <td>41746</td>\n",
              "    </tr>\n",
              "    <tr>\n",
              "      <th>1</th>\n",
              "      <td>RJ</td>\n",
              "      <td>12852</td>\n",
              "    </tr>\n",
              "    <tr>\n",
              "      <th>2</th>\n",
              "      <td>MG</td>\n",
              "      <td>11635</td>\n",
              "    </tr>\n",
              "    <tr>\n",
              "      <th>3</th>\n",
              "      <td>RS</td>\n",
              "      <td>5466</td>\n",
              "    </tr>\n",
              "    <tr>\n",
              "      <th>4</th>\n",
              "      <td>PR</td>\n",
              "      <td>5045</td>\n",
              "    </tr>\n",
              "    <tr>\n",
              "      <th>5</th>\n",
              "      <td>SC</td>\n",
              "      <td>3637</td>\n",
              "    </tr>\n",
              "    <tr>\n",
              "      <th>6</th>\n",
              "      <td>BA</td>\n",
              "      <td>3380</td>\n",
              "    </tr>\n",
              "    <tr>\n",
              "      <th>7</th>\n",
              "      <td>DF</td>\n",
              "      <td>2140</td>\n",
              "    </tr>\n",
              "    <tr>\n",
              "      <th>8</th>\n",
              "      <td>ES</td>\n",
              "      <td>2033</td>\n",
              "    </tr>\n",
              "    <tr>\n",
              "      <th>9</th>\n",
              "      <td>GO</td>\n",
              "      <td>2020</td>\n",
              "    </tr>\n",
              "  </tbody>\n",
              "</table>\n",
              "</div>"
            ],
            "text/plain": [
              "  customer_state  count\n",
              "0             SP  41746\n",
              "1             RJ  12852\n",
              "2             MG  11635\n",
              "3             RS   5466\n",
              "4             PR   5045\n",
              "5             SC   3637\n",
              "6             BA   3380\n",
              "7             DF   2140\n",
              "8             ES   2033\n",
              "9             GO   2020"
            ]
          },
          "execution_count": 43,
          "metadata": {},
          "output_type": "execute_result"
        }
      ],
      "source": [
        "customer_by_state_df = customers_df.groupby(by=\"customer_state\").customer_id.nunique().sort_values(ascending=False).reset_index()\n",
        "customer_by_state_df.rename(columns={\n",
        "    \"customer_id\": \"count\",\n",
        "}, inplace=True)\n",
        "\n",
        "customer_by_state_df.head(10)"
      ]
    },
    {
      "cell_type": "code",
      "execution_count": 44,
      "metadata": {
        "colab": {
          "base_uri": "https://localhost:8080/",
          "height": 576
        },
        "id": "Y05dQHUtGfQn",
        "outputId": "29340972-fa0c-4a25-8605-bf4357c39785"
      },
      "outputs": [
        {
          "data": {
            "image/png": "[encoded data removed]",
            "text/plain": [
              "<Figure size 1000x500 with 1 Axes>"
            ]
          },
          "metadata": {},
          "output_type": "display_data"
        }
      ],
      "source": [
        "plt.figure(figsize=(10, 5))\n",
        "colors = ['lightblue'] + ['lightgrey'] * 9\n",
        "sns.barplot(\n",
        "    y=\"count\",\n",
        "    x=\"customer_state\",\n",
        "    data=customer_by_state_df.head(10),\n",
        "    edgecolor='black',\n",
        "    palette=colors,\n",
        ")\n",
        "plt.title(\"Jumlah Customer Berdasarkan Negara Bagian (State)\", loc=\"center\", fontsize=15)\n",
        "plt.xlabel('State')\n",
        "plt.ylabel('Customer Count')\n",
        "plt.xticks(fontsize=10)\n",
        "plt.yticks(fontsize=10)\n",
        "plt.show()"
      ]
    },
    {
      "cell_type": "markdown",
      "metadata": {
        "id": "02penfLfgSM3"
      },
      "source": [
        "### RFM Analysis"
      ]
    },
    {
      "cell_type": "code",
      "execution_count": 45,
      "metadata": {
        "colab": {
          "base_uri": "https://localhost:8080/",
          "height": 206
        },
        "id": "1kfm9A52gbM2",
        "outputId": "c6ad8b6d-5ccd-4487-86e9-e3647a4f6d35"
      },
      "outputs": [
        {
          "data": {
            "text/html": [
              "<div>\n",
              "<style scoped>\n",
              "    .dataframe tbody tr th:only-of-type {\n",
              "        vertical-align: middle;\n",
              "    }\n",
              "\n",
              "    .dataframe tbody tr th {\n",
              "        vertical-align: top;\n",
              "    }\n",
              "\n",
              "    .dataframe thead th {\n",
              "        text-align: right;\n",
              "    }\n",
              "</style>\n",
              "<table border=\"1\" class=\"dataframe\">\n",
              "  <thead>\n",
              "    <tr style=\"text-align: right;\">\n",
              "      <th></th>\n",
              "      <th>customer_id</th>\n",
              "      <th>frequency</th>\n",
              "      <th>monetary</th>\n",
              "      <th>recency</th>\n",
              "    </tr>\n",
              "  </thead>\n",
              "  <tbody>\n",
              "    <tr>\n",
              "      <th>0</th>\n",
              "      <td>00012a2ce6f8dcda20d059ce98491703</td>\n",
              "      <td>1</td>\n",
              "      <td>114.74</td>\n",
              "      <td>337</td>\n",
              "    </tr>\n",
              "    <tr>\n",
              "      <th>1</th>\n",
              "      <td>000161a058600d5901f007fab4c27140</td>\n",
              "      <td>1</td>\n",
              "      <td>67.41</td>\n",
              "      <td>458</td>\n",
              "    </tr>\n",
              "    <tr>\n",
              "      <th>2</th>\n",
              "      <td>0001fd6190edaaf884bcaf3d49edf079</td>\n",
              "      <td>1</td>\n",
              "      <td>195.42</td>\n",
              "      <td>596</td>\n",
              "    </tr>\n",
              "    <tr>\n",
              "      <th>3</th>\n",
              "      <td>0002414f95344307404f0ace7a26f1d5</td>\n",
              "      <td>1</td>\n",
              "      <td>179.35</td>\n",
              "      <td>427</td>\n",
              "    </tr>\n",
              "    <tr>\n",
              "      <th>4</th>\n",
              "      <td>000379cdec625522490c315e70c7a9fb</td>\n",
              "      <td>1</td>\n",
              "      <td>107.01</td>\n",
              "      <td>198</td>\n",
              "    </tr>\n",
              "  </tbody>\n",
              "</table>\n",
              "</div>"
            ],
            "text/plain": [
              "                        customer_id  frequency  monetary  recency\n",
              "0  00012a2ce6f8dcda20d059ce98491703          1    114.74      337\n",
              "1  000161a058600d5901f007fab4c27140          1     67.41      458\n",
              "2  0001fd6190edaaf884bcaf3d49edf079          1    195.42      596\n",
              "3  0002414f95344307404f0ace7a26f1d5          1    179.35      427\n",
              "4  000379cdec625522490c315e70c7a9fb          1    107.01      198"
            ]
          },
          "execution_count": 45,
          "metadata": {},
          "output_type": "execute_result"
        }
      ],
      "source": [
        "rfm_df = all_df.groupby(by=\"customer_id\", as_index=False).agg({\n",
        "    \"order_purchase_timestamp\": \"max\", # mengambil tanggal order terakhir\n",
        "    \"order_id\": \"nunique\", # menghitung jumlah order\n",
        "    \"payment_value\": \"sum\" # menghitung jumlah revenue yang dihasilkan\n",
        "})\n",
        "rfm_df.columns = [\"customer_id\", \"max_order_timestamp\", \"frequency\", \"monetary\"]\n",
        "\n",
        "# menghitung kapan terakhir pelanggan melakukan transaksi (hari)\n",
        "rfm_df[\"max_order_timestamp\"] = rfm_df[\"max_order_timestamp\"].dt.date\n",
        "recent_date = orders_df[\"order_purchase_timestamp\"].dt.date.max()\n",
        "rfm_df[\"recency\"] = rfm_df[\"max_order_timestamp\"].apply(lambda x: (recent_date - x).days)\n",
        "\n",
        "rfm_df.drop(\"max_order_timestamp\", axis=1, inplace=True)\n",
        "rfm_df.head()"
      ]
    },
    {
      "cell_type": "code",
      "execution_count": 46,
      "metadata": {
        "colab": {
          "base_uri": "https://localhost:8080/",
          "height": 373
        },
        "id": "OAdMgJn-gTnm",
        "outputId": "a7ee9de8-cd7f-41ea-f7c2-c088d06b034d"
      },
      "outputs": [
        {
          "data": {
            "image/png": "[encoded data removed]",
            "text/plain": [
              "<Figure size 3000x600 with 3 Axes>"
            ]
          },
          "metadata": {},
          "output_type": "display_data"
        }
      ],
      "source": [
        "fig, ax = plt.subplots(nrows=1, ncols=3, figsize=(30, 6))\n",
        "\n",
        "colors = [\"#72BCD4\", \"#72BCD4\", \"#72BCD4\", \"#72BCD4\", \"#72BCD4\"]\n",
        "\n",
        "sns.barplot(y=\"recency\", x=\"customer_id\", data=rfm_df.sort_values(by=\"recency\", ascending=True).head(5), color=\"lightblue\", edgecolor='black', ax=ax[0])\n",
        "ax[0].set_ylabel(None)\n",
        "ax[0].set_xlabel(\"customer_id\", fontsize=15)\n",
        "ax[0].set_title(\"By Recency (days)\", loc=\"center\", fontsize=18)\n",
        "ax[0].set_xticks([])\n",
        "\n",
        "sns.barplot(y=\"frequency\", x=\"customer_id\", data=rfm_df.sort_values(by=\"frequency\", ascending=False).head(5), color=\"lightblue\", edgecolor='black', ax=ax[1])\n",
        "ax[1].set_ylabel(None)\n",
        "ax[1].set_xlabel(\"customer_id\", fontsize=15)\n",
        "ax[1].set_title(\"By Frequency\", loc=\"center\", fontsize=18)\n",
        "ax[1].tick_params(axis='x', labelsize=15, labelrotation=90)\n",
        "ax[1].set_xticks([])\n",
        "\n",
        "sns.barplot(y=\"monetary\", x=\"customer_id\", data=rfm_df.sort_values(by=\"monetary\", ascending=False).head(5), color=\"lightblue\", edgecolor='black', ax=ax[2])\n",
        "ax[2].set_ylabel(None)\n",
        "ax[2].set_xlabel(\"customer_id\", fontsize=15)\n",
        "ax[2].set_title(\"By Monetary\", loc=\"center\", fontsize=18)\n",
        "ax[2].tick_params(axis='x', labelsize=15, labelrotation=90)\n",
        "ax[2].set_xticks([])\n",
        "\n",
        "plt.suptitle(\"Best Customer Based on RFM Parameters (customer_id)\", fontsize=20)\n",
        "plt.show()"
      ]
    },
    {
      "cell_type": "markdown",
      "metadata": {
        "id": "_WeHlCeX8DC2"
      },
      "source": [
        "## Conclusion"
      ]
    },
    {
      "cell_type": "markdown",
      "metadata": {
        "id": "ZTcyR48Y8DC2"
      },
      "source": [
        "**- Bagaimana penghasilan penjualan pada tiap bulannya?**\n",
        "\n",
        "Penghasilan tiap bulan mulai dari September 2016 hingga Oktober 2018 mengalami fluktuasi. Penghasilan menunjukkan peningkatan hingga Agustus 2018 dan mengalami penurunan pada September 2018 dan Oktober 2018. Penghasilan tertinggi didapatkan pada bulan November 2017."
      ]
    },
    {
      "cell_type": "markdown",
      "metadata": {
        "id": "JVxz5WZEvK4V"
      },
      "source": [
        "**- Bagaimana rating penjualan yang diberikan oleh customer?**\n",
        "\n",
        "Rating yang diberikan oleh customer cukup beragam, namun rating terbanyak didapat oleh rating 5 dengan sebanyak 57076 suara. Dilanjutkan dengan rating 4 sebanyak 19098 suara dan rating 1 sebanyak 11393 suara. Dari review tersebut rata-rata rating yang didapat adalah 4.08."
      ]
    },
    {
      "cell_type": "markdown",
      "metadata": {
        "id": "B0ALl-EsxOcC"
      },
      "source": [
        "**- Bagaimana demografi pelanggan?**\n",
        "\n",
        "Demografi pelanggan yang dianalisis adalah berdasarkan asal kota dan asal negara bagian. Berdasarkan visualisasi di atas, customer terbanyak terdapat pada kota Sao Paulo. Selain itu, Negara Bagian Sao Paulo (SP) juga menduduki sebagai customer terbanyak."
      ]
    }
  ],
  "metadata": {
    "colab": {
      "provenance": []
    },
    "kernelspec": {
      "display_name": "Python 3",
      "language": "python",
      "name": "python3"
    },
    "language_info": {
      "codemirror_mode": {
        "name": "ipython",
        "version": 3
      },
      "file_extension": ".py",
      "mimetype": "text/x-python",
      "name": "python",
      "nbconvert_exporter": "python",
      "pygments_lexer": "ipython3",
      "version": "3.11.5"
    },
    "orig_nbformat": 4,
    "vscode": {
      "interpreter": {
        "hash": "972b3bf27e332e87b5379f2791f6ef9dfc79c71018c370b0d7423235e20fe4d7"
      }
    }
  },
  "nbformat": 4,
  "nbformat_minor": 0
}
